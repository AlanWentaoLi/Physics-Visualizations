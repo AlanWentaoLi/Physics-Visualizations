{
 "cells": [
  {
   "cell_type": "markdown",
   "metadata": {},
   "source": [
    "# Interactivity with Plotly\n",
    "\n",
    "<img src=\"https://camo.githubusercontent.com/a38f9ed71170e3112dd3e4af1d11d4b081fe2e25/687474703a2f2f692e696d6775722e636f6d2f643379346e776d2e676966\" alt=\"Drawing\" style=\"width: 800px;\"/>"
   ]
  },
  {
   "cell_type": "markdown",
   "metadata": {},
   "source": [
    "<br>\n",
    "For the most part, interactivity in plotly will be done through javascript. However, plotly.py and jupyter notebooks do have enough interactive tools to create a simple plot with one. This may be useful for creating plots in the first few weeks of the project or testing your physics code as you go along.<br><br>\n",
    "\n",
    "for now let's import all the module's we will need\n"
   ]
  },
  {
   "cell_type": "code",
   "execution_count": null,
   "metadata": {},
   "outputs": [],
   "source": [
    "from plotly.offline import download_plotlyjs,init_notebook_mode,plot,iplot\n",
    "import plotly.graph_objs as go\n",
    "init_notebook_mode(connected=True)\n",
    "from ipywidgets import interact, interactive, fixed, interact_manual\n",
    "import ipywidgets as widgets\n",
    "import numpy as np"
   ]
  },
  {
   "cell_type": "markdown",
   "metadata": {},
   "source": [
    "## Why (and why not) use Jupyter Interacts\n"
   ]
  },
  {
   "cell_type": "markdown",
   "metadata": {},
   "source": [
    "Now the way that plotly's iplot function works is that it sends off all of the input data and layout dictionaries to a standalone html. This means that - in general - you cannot send new data to an already existing iplot. So if you want to update the data of an iplot using jupyter, what you will have to do is replot the graph every time you change something.\n",
    "<br><br>\n",
    "To do this we can use jupyter's interact() widget, which takes a function and its respective variables as inputs. The interact function then produces either sliders or buttons to cycle through the variables of the input function. An example of using interact to change the data of a plotly graph is shown below:"
   ]
  },
  {
   "cell_type": "code",
   "execution_count": null,
   "metadata": {},
   "outputs": [],
   "source": [
    "def plot(x):\n",
    "    global data\n",
    "    data = []\n",
    "    trace1 = dict(\n",
    "    go.Scatter(\n",
    "        x=[1,2,4,x],\n",
    "        y=[5,0,8,2],\n",
    "        mode='markers',\n",
    "        name='bubbles!',\n",
    "        marker=dict(\n",
    "            size=15\n",
    "        )\n",
    "        \n",
    "    )\n",
    "    )\n",
    "\n",
    "    trace2 = dict(\n",
    "    go.Scatter(\n",
    "        x=[1,3,5,7],\n",
    "        y=[1,3,5,7],\n",
    "        name='lines',\n",
    "        line = dict(\n",
    "            width=2,\n",
    "            color='rgb(21,117,22)'\n",
    "        )\n",
    "        \n",
    "    )\n",
    "    )\n",
    "    data = [trace1,trace2]\n",
    "    iplot(data)\n",
    "    \n",
    "interact(plot,x=widgets.IntSlider(min=0,max=10,step=1,value=0))\n"
   ]
  },
  {
   "cell_type": "markdown",
   "metadata": {
    "collapsed": true
   },
   "source": [
    "## Why (and why not use) Plotly.py's interacts"
   ]
  },
  {
   "cell_type": "markdown",
   "metadata": {},
   "source": [
    "As well as jupyter's built in ipython widgets and interacts, plotly has it's own set of interactivities. These interactivities can be split into three main groups: animation, sliders, and buttons. What's more, none of them require you to replot the entire graph after changing one variable!!\n",
    "\n",
    "### Let's start with a quick tutorial on buttons:\n",
    "\n",
    "For all three of these interactivities we will usually start off by creating a dictionary called updatemenus in your layout dictionary. This updatemenus dict is what contains the information about whatever widget you want to impliment.<br><br>\n",
    "For a button, we simply create a dict called buttons that contains all of the different datasets or layout types that we would like to eventually plot. Say if we want to switch between plotting a sphere or a cube; with a plotly button this is possible. <br><br>\n",
    "The most important atribute of the buttons dict is the 'args' attribute, and tells plotly what attribute of your figure you want to change. In the example below, we are changing the x coordinate of the data. However, in general we write args in the form 'args':<br> [{'attribute': new_value_of_attribute,'attribute2: new_value_of_attribute2'}]"
   ]
  },
  {
   "cell_type": "code",
   "execution_count": null,
   "metadata": {},
   "outputs": [],
   "source": [
    "x = [2]\n",
    "t= np.linspace(0,2,50)\n",
    "y = [0]\n",
    "\n",
    "\n",
    "data=[dict(x=x, y=y,\n",
    "           name='frame',\n",
    "           mode='markers', \n",
    "           line=dict(width=2, color='blue')),\n",
    "\n",
    "    ]\n",
    "\n",
    "layout=dict(width=1000, height=500,\n",
    "            xaxis=dict(range=[0, 2*np.pi], autorange=False, zeroline=False),\n",
    "            yaxis=dict(range=[-1.1, 1.1], autorange=False, zeroline=False),\n",
    "            title='Button', hovermode='closest',\n",
    "            updatemenus= [\n",
    "                {\n",
    "                    'buttons':[\n",
    "                        {\n",
    "                            'args': [{'x':[[2]]}],\n",
    "                            'label': 'frame1',\n",
    "                            'method': 'update'\n",
    "                        },\n",
    "                        {\n",
    "                            'args': [{'x':[[4]]}],\n",
    "                            'label': 'frame2',\n",
    "                            'method': 'update'\n",
    "                        }\n",
    "                    ]\n",
    "                }\n",
    "            ])\n",
    " \n",
    "figure = dict(data=data,layout=layout)\n",
    "iplot(figure)\n"
   ]
  },
  {
   "cell_type": "markdown",
   "metadata": {
    "collapsed": true
   },
   "source": [
    "### Now for the animations:\n",
    "\n",
    "The way that animating in plotly works is that - as well as inputing data and layout dictionaries into your iplot function - you must input a dictionary called 'frames'. <br><br>\n",
    "Now 'frames' is essentially just a series of other figures (data and layout dictionaries) that the plot will cycle through. These figures can have different data and layout than your initial data and layout inputs, so when you cycle through them it looks like the graph is changing and animating.<br><br>\n",
    "You will also need the standard updatemenus dictionary in your initial layout input. The updatemenus should contain two buttons that start and stop the animation, using the method 'animate', rather than update.<br>\n",
    "Below is an example that displays eveything we've discussed concerning animation:"
   ]
  },
  {
   "cell_type": "code",
   "execution_count": null,
   "metadata": {},
   "outputs": [],
   "source": [
    "x = [1]\n",
    "t= np.linspace(0,2,50)\n",
    "y = [-1]\n",
    "\n",
    "\n",
    "data=[dict(x=x, y=y,\n",
    "           name='frame',\n",
    "           mode='markers', \n",
    "           line=dict(width=2, color='blue')),\n",
    "\n",
    "    ]\n",
    "\n",
    "#asdasdasd\n",
    "#hi \n",
    "\n",
    "layout=dict(width=1000, height=500,\n",
    "            xaxis=dict(range=[0, 2*np.pi], autorange=False, zeroline=False),\n",
    "            yaxis=dict(range=[-1.1, 1.1], autorange=False, zeroline=False),\n",
    "            title='Animation', hovermode='closest',\n",
    "            updatemenus= [\n",
    "                {\n",
    "                    'buttons':[\n",
    "                        {\n",
    "                            'args': [[None], {'frame': {'duration': 0, 'redraw': False}, 'mode': 'immediate',\n",
    "                            'transition': {'duration': 0}}],\n",
    "                            'label': 'Pause',\n",
    "                            'method': 'animate'\n",
    "                        },\n",
    "                        {\n",
    "                            'args': [None, {'frame': {'duration': 0, 'redraw': False},\n",
    "                                'fromcurrent': True, 'transition': {'duration': 0, 'easing': 'quadratic-in-out'}}],\n",
    "                            'label': 'Play',\n",
    "                            'method': 'animate'\n",
    "                        }\n",
    "                    ]\n",
    "                }\n",
    "            ])\n",
    "\n",
    "frames=[dict(data=[dict(x=x+2*t[k], \n",
    "                        y=y+t[k]), \n",
    "\n",
    "                  ]) for k in range(50)]    \n",
    "figure = dict(data=data,layout=layout,frames=frames)\n",
    "iplot(figure)\n"
   ]
  },
  {
   "cell_type": "markdown",
   "metadata": {},
   "source": [
    "### Finally the sliders:\n",
    "\n",
    "Finally we have sliders, which are half way inbetween buttons and animations. When adding sliders to plotly, rather than using updatemenus we have a dictionary (still within the layout dictionary) called sliders.<br><br>\n",
    "\n",
    "From the example below you can see that this sliders dictionary has a number of different attributes, but our main focus is the steps attribute. Steps takes the form of a list of all the dataframes we want to plot. Here we have created steps using a simple for loop, which is often the simplest solution."
   ]
  },
  {
   "cell_type": "code",
   "execution_count": null,
   "metadata": {},
   "outputs": [],
   "source": [
    "slider_range=6\n",
    "steps=[]\n",
    "for i in range(0,slider_range,1):\n",
    "    step = dict(\n",
    "        method='update',\n",
    "        args=[{'x':[[i]]}]\n",
    "    )\n",
    "    steps.append(step)\n",
    "    \n",
    "sliders= [dict(\n",
    "    active=2,\n",
    "    currentvalue={'prefix':'x position'},\n",
    "    pad={'t':slider_range},\n",
    "    steps=steps\n",
    ")]\n",
    "\n",
    "data=[dict(x=[2], y=[0],\n",
    "           name='frame',\n",
    "           mode='markers', \n",
    "           line=dict(width=2, color='blue')),\n",
    "\n",
    "    ]\n",
    "\n",
    "layout=dict(width=1000, height=500,\n",
    "            xaxis=dict(range=[0, 2*np.pi], autorange=False, zeroline=False),\n",
    "            yaxis=dict(range=[-1.1, 1.1], autorange=False, zeroline=False),\n",
    "            title='Slider', hovermode='closest',\n",
    "            sliders=sliders)\n",
    "figure = dict(data=data,layout=layout)\n",
    "iplot(figure)"
   ]
  },
  {
   "cell_type": "markdown",
   "metadata": {},
   "source": [
    "### BE AWARE: We will generally not be using plotly's interactivities because in all the three methods we have looked at, you must send of all of your frames at once! When you move a slider or press a button you are simply picking between data that you have already created. So if we ever want to continously add data, or use multiple sliders for the same plot, we will have to use javascript!"
   ]
  },
  {
   "cell_type": "code",
   "execution_count": null,
   "metadata": {
    "collapsed": true
   },
   "outputs": [],
   "source": []
  }
 ],
 "metadata": {
  "anaconda-cloud": {},
  "kernelspec": {
   "display_name": "Python [default]",
   "language": "python",
   "name": "python3"
  },
  "language_info": {
   "codemirror_mode": {
    "name": "ipython",
    "version": 3
   },
   "file_extension": ".py",
   "mimetype": "text/x-python",
   "name": "python",
   "nbconvert_exporter": "python",
   "pygments_lexer": "ipython3",
   "version": "3.5.2"
  }
 },
 "nbformat": 4,
 "nbformat_minor": 2
}
