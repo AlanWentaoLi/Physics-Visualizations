{
 "cells": [
  {
   "cell_type": "markdown",
   "metadata": {
    "collapsed": true
   },
   "source": [
    "# Tutorial - Setting Up GitHub (2017)\n",
    "\n",
    "## Introduction\n",
    "\n",
    "Git is a version control system (VCS) used for tracking and coordinating changes in computer files, and is particularly useful for work involving multiple people. For this Imperial Visualizations project we will be using GitHub - a web based version control repository and internet hosting service.\n",
    "\n",
    "## Joining the GitHub Repo\n",
    "\n",
    "1. Create a GitHub account https://github.com/. You can also use your student email address to activat   e the Student Develop Pack https://education.github.com/pack which comes with a multitude of softwa   re development tools and perks such as private repos (lasts a limited time).\n",
    "\n",
    "2. Message your group admin with your GitHub username for access to the Imperial Visualizations reposi   tory.\n",
    "\n",
    "## GitKraken\n",
    "\n",
    "For the purposes of this project, GitKraken is a GUI (Graphic User Interface) Git client that greatly speeds up the process of getting to grips with Git. If you prefer, you can learn the CLI (Command Line Interface) although this will require some effort in self-learning and fixing anyway issues which arise yourself. \n",
    "\n",
    "1. Download GitKraken https://www.gitkraken.com/ and log in with your GitHub account.\n",
    "\n",
    "2. File -> Clone Repo -> Clone -> GitHub.com and select the \"Imperial-Visualizations\" repository.\n",
    "\n",
    "3. Have your admin create a branch with your name - this is your branch for code development.\n",
    "\n",
    "4. Once the Jupyter notebook is completed, upload it to your group in the Imperial Visualizations Slac   k. The admin will then merge it to the dev branch.\n",
    "\n",
    "## Using Gitkraken (What do all the buttons do?)\n",
    "\n"
   ]
  },
  {
   "cell_type": "code",
   "execution_count": null,
   "metadata": {},
   "outputs": [],
   "source": [
    ""
   ]
  }
 ],
 "metadata": {
  "kernelspec": {
   "display_name": "Python 2",
   "language": "python",
   "name": "python2"
  },
  "language_info": {
   "codemirror_mode": {
    "name": "ipython",
    "version": 2.0
   },
   "file_extension": ".py",
   "mimetype": "text/x-python",
   "name": "python",
   "nbconvert_exporter": "python",
   "pygments_lexer": "ipython2",
   "version": "2.7.6"
  }
 },
 "nbformat": 4,
 "nbformat_minor": 0
}