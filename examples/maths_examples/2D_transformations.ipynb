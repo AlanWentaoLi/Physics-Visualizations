{
 "cells": [
  {
   "cell_type": "code",
   "execution_count": null,
   "metadata": {},
   "outputs": [],
   "source": [
    "import numpy as np\n",
    "import math as ma \n",
    "import plotly.figure_factory as ff\n",
    "from plotly.offline import download_plotlyjs,init_notebook_mode,plot,iplot\n",
    "import plotly.graph_objs as go\n",
    "init_notebook_mode(connected=True)\n",
    "from ipywidgets import interact, interactive, fixed, interact_manual\n",
    "import ipywidgets as widgets\n",
    "import json"
   ]
  },
  {
   "cell_type": "code",
   "execution_count": null,
   "metadata": {},
   "outputs": [],
   "source": [
    "# Rotation matrix\n",
    "def rotmat(th):\n",
    "    rotator = np.array([[ma.cos(th), -ma.sin(th)],[ma.sin(th), ma.cos(th)]])\n",
    "    return rotator\n",
    "\n",
    "# print(rotmat(1))"
   ]
  },
  {
   "cell_type": "code",
   "execution_count": null,
   "metadata": {
    "collapsed": true
   },
   "outputs": [],
   "source": [
    "def rotation(th,vec):\n",
    "    # Parameters \n",
    "    t = np.linspace(0,1,50)\n",
    "    tt = th*t\n",
    "    # Rotation matrix\n",
    "    BigR = np.identity(2)\n",
    "    for i in range(len(tt)-1):\n",
    "        BigR = np.vstack((BigR,rotmat(tt[i+1])))\n",
    "    newvec = np.matmul(BigR,vec)\n",
    "    x = newvec[::2]\n",
    "    y = newvec[1::2]\n",
    "    return (x,y)\n"
   ]
  },
  {
   "cell_type": "code",
   "execution_count": null,
   "metadata": {
    "scrolled": false
   },
   "outputs": [],
   "source": [
    "(x,y) = rotation(1,[1,0])\n",
    "x = list(x)\n",
    "y = list(y)\n",
    "\n",
    "data = [{\"x\": [x[i],0], \"y\": [y[i],0], \"frame\": i} for i in range(len(x))]\n",
    "# Output JSON file:\n",
    "# with open(\"rotationtest.json\", 'w') as test_file:\n",
    "#     json.dump(data, test_file, ensure_ascii=False)"
   ]
  },
  {
   "cell_type": "code",
   "execution_count": null,
   "metadata": {},
   "outputs": [],
   "source": [
    "# Input vector, scale 1, scale 2 as arguments\n",
    "def scale(vec,*args):\n",
    "    assert len(vec)==2, \"Please provide a 2D vector for the first argument\"\n",
    "    assert len(args)==1 or len(args)==2, \"Please provide 1 or 2 scale arguments\"\n",
    "    t = np.linspace(1,args[0],50)\n",
    "    # If only one scale argument given then scale in both directions by same amount\n",
    "    if len(args) == 1:\n",
    "        x = vec[0]*t\n",
    "        y = vec[1]*t\n",
    "        return(x,y)\n",
    "    # If two scale arguments given then scale individual directions\n",
    "    else:\n",
    "        s = np.linspace(1,args[1],50)\n",
    "        x = vec[0]*t\n",
    "        y = vec[1]*s\n",
    "        return(x,y)\n",
    "\n",
    "(x2,y2) = scale([1,1],2,3)\n",
    "x2 = list(x2)\n",
    "y2 = list(y2)\n",
    "\n",
    "data2 = [{\"x\": [x2[i],0], \"y\": [y2[i],0], \"frame\": i} for i in range(len(x))]\n",
    "# Update JSON file:\n",
    "with open(\"scaletest.json\", 'w') as test_file2:\n",
    "    json.dump(data2, test_file2, ensure_ascii=False)\n"
   ]
  },
  {
   "cell_type": "code",
   "execution_count": null,
   "metadata": {
    "collapsed": true
   },
   "outputs": [],
   "source": []
  }
 ],
 "metadata": {
  "kernelspec": {
   "display_name": "Python 3",
   "language": "python",
   "name": "python3"
  },
  "language_info": {
   "codemirror_mode": {
    "name": "ipython",
    "version": 3
   },
   "file_extension": ".py",
   "mimetype": "text/x-python",
   "name": "python",
   "nbconvert_exporter": "python",
   "pygments_lexer": "ipython3",
   "version": "3.6.2"
  }
 },
 "nbformat": 4,
 "nbformat_minor": 2
}
