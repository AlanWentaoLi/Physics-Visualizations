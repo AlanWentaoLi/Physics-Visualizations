{
 "cells": [
  {
   "cell_type": "code",
   "execution_count": null,
   "metadata": {},
   "outputs": [],
   "source": [
    "import numpy as np\n",
    "import math as ma \n",
    "import plotly.figure_factory as ff\n",
    "from plotly.offline import download_plotlyjs,init_notebook_mode,plot,iplot\n",
    "import plotly.graph_objs as go\n",
    "init_notebook_mode(connected=True)\n",
    "from ipywidgets import interact, interactive, fixed, interact_manual\n",
    "import ipywidgets as widgets\n"
   ]
  },
  {
   "cell_type": "code",
   "execution_count": null,
   "metadata": {},
   "outputs": [],
   "source": [
    "def rotation(th,vec):\n",
    "    # Rotation matrix\n",
    "    R = [[ma.cos(th), -ma.sin(th)],[ma.sin(th), ma.cos(th)]]\n",
    "    newvec = np.matmul(R,vec)\n",
    "    # Plot points from the origin\n",
    "\n",
    "    [u,v] = vec\n",
    "    [unew,vnew] = newvec\n",
    "    \n",
    "    print('Starting vector: ', vec)\n",
    "    print('Transformed vector: ', newvec)\n",
    "    print('theta = ',th)\n",
    "    \n",
    "    # Quiver Plot \n",
    "#     x = [0,0] \n",
    "#     y = [0,0]   \n",
    "#     fig = ff.create_quiver(x, y, [u,unew], [v,vnew], scale=1, arrow_scale=0.1, angle=0.4)\n",
    "#     py.iplot(fig, filename='Quiver Plot Example')\n",
    "    \n",
    "    x = vec[0]\n",
    "    t= np.linspace(0,1,50)\n",
    "    tt = th*t\n",
    "    \n",
    "    y = vec[1]\n",
    "\n",
    "\n",
    "    data=[dict(x=x, y=y,\n",
    "               name='frame',\n",
    "               mode='markers', \n",
    "               line=dict(width=2, color='blue')),\n",
    "\n",
    "        ]\n",
    "\n",
    "    layout=dict(width=400, height=400,\n",
    "                xaxis=dict(range=[0, 1], autorange=False, zeroline=False),\n",
    "                yaxis=dict(range=[-1, 1], autorange=False, zeroline=False),\n",
    "                title='Animation', hovermode='closest',\n",
    "                updatemenus= [\n",
    "                    {\n",
    "                        'buttons':[\n",
    "                            {\n",
    "                                'args': [[None], {'frame': {'duration': 6, 'redraw': False}, 'mode': 'immediate',\n",
    "                                'transition': {'duration': 1}}],\n",
    "                                'label': 'Pause',\n",
    "                                'method': 'animate'\n",
    "                            },\n",
    "                            {\n",
    "                                'args': [None, {'frame': {'duration': 6, 'redraw': False},\n",
    "                                    'fromcurrent': True, 'transition': {'duration': 1, 'easing': 'quadratic-in-out'}}],\n",
    "                                'label': 'Play',\n",
    "                                'method': 'animate'\n",
    "                            }\n",
    "                        ]\n",
    "                    }\n",
    "                ])\n",
    "\n",
    "    frames=[dict(data=[dict(x=[x*ma.cos(tt[k])-y*ma.sin(tt[k])], \n",
    "                            y=[x*ma.sin(tt[k])+y*ma.cos(tt[k])]), \n",
    "                            ]) for k in range(50)]    \n",
    "    figure = dict(data=data,layout=layout,frames=frames)\n",
    "    iplot(figure)\n",
    "\n",
    "\n",
    "    \n",
    "    \n",
    "     \n"
   ]
  },
  {
   "cell_type": "code",
   "execution_count": null,
   "metadata": {
    "scrolled": true
   },
   "outputs": [],
   "source": [
    "if __name__ == '__main__':\n",
    "    rotation(1,[1,0])"
   ]
  },
  {
   "cell_type": "code",
   "execution_count": null,
   "metadata": {
    "collapsed": true
   },
   "outputs": [],
   "source": []
  }
 ],
 "metadata": {
  "kernelspec": {
   "display_name": "Python 3",
   "language": "python",
   "name": "python3"
  },
  "language_info": {
   "codemirror_mode": {
    "name": "ipython",
    "version": 3
   },
   "file_extension": ".py",
   "mimetype": "text/x-python",
   "name": "python",
   "nbconvert_exporter": "python",
   "pygments_lexer": "ipython3",
   "version": "3.6.2"
  }
 },
 "nbformat": 4,
 "nbformat_minor": 2
}
