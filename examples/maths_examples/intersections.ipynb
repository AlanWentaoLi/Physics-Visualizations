{
 "cells": [
  {
   "cell_type": "markdown",
   "metadata": {},
   "source": [
    "# Intersections module"
   ]
  },
  {
   "cell_type": "markdown",
   "metadata": {},
   "source": [
    "Set up plotly"
   ]
  },
  {
   "cell_type": "code",
   "execution_count": 3,
   "metadata": {},
   "outputs": [
    {
     "data": {
      "text/html": [
       "<script>requirejs.config({paths: { 'plotly': ['https://cdn.plot.ly/plotly-latest.min']},});if(!window.Plotly) {{require(['plotly'],function(plotly) {window.Plotly=plotly;});}}</script>"
      ],
      "text/vnd.plotly.v1+html": [
       "<script>requirejs.config({paths: { 'plotly': ['https://cdn.plot.ly/plotly-latest.min']},});if(!window.Plotly) {{require(['plotly'],function(plotly) {window.Plotly=plotly;});}}</script>"
      ]
     },
     "metadata": {},
     "output_type": "display_data"
    }
   ],
   "source": [
    "import plotly.offline as py\n",
    "import plotly.graph_objs as go\n",
    "py.init_notebook_mode(connected=True)"
   ]
  },
  {
   "cell_type": "markdown",
   "metadata": {},
   "source": [
    "Set up imports"
   ]
  },
  {
   "cell_type": "code",
   "execution_count": 4,
   "metadata": {
    "collapsed": true
   },
   "outputs": [],
   "source": [
    "import pointslinesplanes as plp\n",
    "import numpy as np"
   ]
  },
  {
   "cell_type": "code",
   "execution_count": 60,
   "metadata": {
    "collapsed": true
   },
   "outputs": [],
   "source": [
    "def intersect(obj1, obj2):\n",
    "    \"\"\"Intersection between two objects that can be Point, Line or Plane.\n",
    "    Returns Point, Line or Plane or throws ArithmeticError when no intersection can be found.\n",
    "    @author Nick Metelski\n",
    "    @since 26.07.17\"\"\"\n",
    "    #plane-plane\n",
    "    if isinstance(obj1,plp.Plane) and isinstance(obj2,plp.Plane):\n",
    "        return _plane_plane_intersect(obj1,obj2)\n",
    "    \n",
    "    #plane-line\n",
    "    elif isinstance(obj1,plp.Plane) and isinstance(obj2,plp.Line):\n",
    "        return _plane_line_intersect(obj1,obj2)\n",
    "    elif isinstance(obj1,plp.Line) and isinstance(obj2,plp.Plane):\n",
    "        return _plane_line_intersect(obj2,obj1)\n",
    "    \n",
    "    #plane-point\n",
    "    elif isinstance(obj1,plp.Plane) and isinstance(obj2,plp.Point):\n",
    "        return _plane_point_intersect(obj1,obj2)\n",
    "    elif isinstance(obj1,plp.Point) and isinstance(obj2,plp.Plane):\n",
    "        return _plane_point_intersect(obj2,obj1)\n",
    "    \n",
    "    #line-line\n",
    "    elif isinstance(obj1,plp.Line) and isinstance(obj2,plp.Line):\n",
    "        return _line_line_intersect(obj1,obj2)\n",
    "    \n",
    "    #line-point\n",
    "    elif isinstance(obj1,plp.Line) and isinstance(obj2,plp.Point):\n",
    "        return _line_point_intersect(obj1,obj2)\n",
    "    elif isinstance(obj1,plp.Point) and isinstance(obj2,plp.Line):\n",
    "        return _line_point_intersect(obj2,obj1)\n",
    "    \n",
    "    #point-point\n",
    "    elif isinstance(obj1,plp.Point) and isinstance(obj2,plp.Point):\n",
    "        return _point_point_intersect(obj1,obj2)\n",
    "    \n",
    "    #wrong params\n",
    "    else:\n",
    "        raise TypeError(\"Invalid parameter types - please pass intersections.Point, intersections.Line or intersections.Plane.\")\n",
    "\n",
    "def _plane_plane_intersect(p1,p2):\n",
    "    \"\"\"Private function; do not use. Use intersect(obj1,obj2) instead.\n",
    "    plane-plane intersection submethod. Raises exceptions or returns Line.\n",
    "    @author Nick Metelski\n",
    "    @since 26.07.17\"\"\"\n",
    "    #TODO make it return plane is planes are identical\n",
    "    #cross-product\n",
    "    cross = np.cross(p1.normal,p2.normal)\n",
    "    if np.all(cross==0):\n",
    "        #planes are parallel or overlap\n",
    "        #if they overlap then the offset of one plane lies on the other\n",
    "        try:\n",
    "            intersection = intersect(Point(p1.offset), p2)\n",
    "            return Plane(p1.normal,p1.offset) #return a new plane same a the overlapping ones\n",
    "        except ArithmeticError:\n",
    "            raise ArithmeticError(\"Planes are parallel, do not overlap.\")\n",
    "    else:\n",
    "        #sample point: x=0\n",
    "        #NOTE: linalg.solve can raise np.linalg.LinAlgError exception when x=0 results in singular matrix\n",
    "        #we have to check some other cases\n",
    "        #premise: the line has to intersect at least one of the planes: xy, yz or xz.\n",
    "        mat = [[p1.normal[1],p1.normal[2]],[p2.normal[1], p2.normal[2]]]\n",
    "        axis = 0 #keep track of which axis we zero out; 0=x, 1=y, 2=z\n",
    "        if np.linalg.matrix_rank(mat) == 1:\n",
    "            mat = [[p1.normal[0],p1.normal[2]],[p2.normal[0], p2.normal[2]]]\n",
    "            axis = 1\n",
    "            if np.linalg.matrix_rank(mat) == 1:\n",
    "                mat = [[p1.normal[0],p1.normal[1]],[p1.normal[0], p2.normal[1]]]\n",
    "                axis = 2  \n",
    "        rhs = [np.dot(p1.normal,p1.offset),np.dot(p2.normal,p2.offset)]\n",
    "        sol = np.linalg.solve(mat,rhs)\n",
    "        if axis == 0:\n",
    "            return plp.Line(cross, [0,sol[0],sol[1]])\n",
    "        if axis == 1:\n",
    "            return plp.Line(cross, [sol[0],0,sol[1]])\n",
    "        if axis == 2:\n",
    "            return plp.Line(cross, [sol[0],sol[1],0])\n",
    "\n",
    "def _plane_line_intersect(plane,line):\n",
    "    \"\"\"Private function; do not use. Use intersect(obj1,obj2) instead.\n",
    "    Intersection of a line an a plane. Raises exceptions or returns Point.\n",
    "    @author Nick Metelski\n",
    "    @since 26.07.17\"\"\"\n",
    "    check = np.dot(plane.normal,line.vec)\n",
    "    if np.allclose(check,[0.0,0.0,0.0]):\n",
    "        #plane and line are parallel or overlap\n",
    "        raise ArithmeticError(\"Plane and line are parallel.\")\n",
    "    else:\n",
    "        #there is an explicit formula for parameter of the line for which intersection is met:\n",
    "        #$$t = \\frac{\\vec{n} \\cdot (\\vec{d_p}-\\vec{d_v})}{\\vec{n} \\cdot \\vec{v}}$$,\n",
    "        #where n is normal to plane, v is line's direction, rp is plane offset, rv is vector offset\n",
    "        t = np.dot(plane.normal,(plane.offset-line.offset))/np.dot(plane.normal,line.vec)\n",
    "        return plp.Point(line.offset+t*line.vec)\n",
    "    \n",
    "def _plane_point_intersect(plane,point):\n",
    "    \"\"\"Private function; do not use. Use intersect(obj1,obj2) instead.\n",
    "    Intersection of a plane and point. Raises exceptions or returns Point.\n",
    "    @author Nick Metelski\n",
    "    @since 27.07.17\"\"\"\n",
    "    check = np.dot(plane.normal, point.pos - plane.offset)\n",
    "    if check == 0:\n",
    "        return plp.Point(point.pos)\n",
    "    else:\n",
    "        raise ArithmeticError(\"The point does not line on the plane.\")\n",
    "\n",
    "def _line_line_intersect(line1,line2):\n",
    "    \"\"\"Private function; do not use. Use intersect(obj1,obj2) instead.\n",
    "    Intersection of two lines. Raises exceptions or returns Point or Line.\n",
    "    @author Nick Metelski\n",
    "    @since 27.07.17\"\"\"\n",
    "    cross = np.cross(line1.vec,line2.vec)\n",
    "    if np.allclose(cross,[0.0,0.0,0.0]):\n",
    "        #lines parallel. are they identical?\n",
    "        try:\n",
    "            intersect(line2, plp.Point(line1.offset)) #this will raise an exception if they are not identical\n",
    "            return plp.Line(line1.vec,line1.offset)\n",
    "        except ArithmeticError:\n",
    "            raise ArithmeticError(\"Lines are parallel, and are not identical.\")\n",
    "    else:\n",
    "        #lines not parallel\n",
    "        #print(\"lines: \",line1.vec,line2.vec)\n",
    "        matrix = np.array([line1.vec,line2.vec]).transpose()\n",
    "        #print(matrix)\n",
    "        snoz = [matrix[0,:],matrix[1,:]]\n",
    "        snoy = [matrix[0,:],matrix[2,:]]\n",
    "        snox = [matrix[1,:],matrix[2,:]]\n",
    "        rhs = line2.offset - line1.offset\n",
    "        #print(\"slice no z: \",snoz,\"\\nslice no y: \",snoy,\"\\nslice no x: \",snox)\n",
    "        raise NotImplementedError(\"Line-line intersections not implemented.\")\n",
    "    \n",
    "def _line_point_intersect(line,point):\n",
    "    \"\"\"Private function; do not use. Use intersect(obj1,obj2) instead.\n",
    "    Intersection of a line and point. Intersection is a Point.\n",
    "    Raises exceptions or returns Point.\n",
    "    @author Nick Metelski\n",
    "    @since 27.07.17\"\"\"\n",
    "    #premise: difference in offsets must be parallel to direction vector\n",
    "    offset_diff = point.pos - line.offset\n",
    "    cross = np.cross(line.vec,offset_diff) # this is for checking if there exists an intersection\n",
    "    if np.allclose(cross,[0.0,0.0,0.0]):\n",
    "        return plp.Point(point.pos) #return a point coinciding with the original point passed as param\n",
    "    else:\n",
    "        raise ArithmeticError(\"Point does not lie on the line.\")\n",
    "        \n",
    "def _point_point_intersect(point1, point2):\n",
    "    \"\"\"Private function; do not use. Use intersect(obj1,obj2) instead.\n",
    "    Intersection of a two points. Intersection is the point if the point are the same position. \n",
    "    Raises exceptions or returns Point.\n",
    "    @author Nick Metelski\n",
    "    @since 27.07.17\"\"\"\n",
    "    if np.allclose(point1.pos,point2.pos):\n",
    "        #just return one of the points when they coincide\n",
    "        return plp.Point(point1.pos)\n",
    "    else:\n",
    "        raise ArithmeticError(\"Points do not coincide.\")"
   ]
  },
  {
   "cell_type": "markdown",
   "metadata": {},
   "source": [
    "# Tests"
   ]
  },
  {
   "cell_type": "code",
   "execution_count": 69,
   "metadata": {},
   "outputs": [],
   "source": [
    "plane1 = plp.Plane([1,1,1],[1,0,0])\n",
    "plane2 = plp.Plane([-1.0,1,1],[0.5,0,0.5])\n",
    "plane3 = plp.Plane([0.2,0.1,0.3],[0.2,-0.3,0.5])\n",
    "line1 = intersect(plane1,plane2)\n",
    "line2 = intersect(plane2,plane3)\n",
    "line3 = intersect(plane1,plane3)\n",
    "point1 = intersect(plp.Point([0.5,0,0.5]),plane2)"
   ]
  },
  {
   "cell_type": "code",
   "execution_count": 74,
   "metadata": {
    "collapsed": true
   },
   "outputs": [],
   "source": [
    "layout = dict(\n",
    "    width=400,height=400,\n",
    "    showlegend=False,\n",
    "    font = dict(family=\"Verdana\"),\n",
    "    scene = dict(\n",
    "        xaxis = dict(range=[-1, 1], autorange=False, zeroline=False),\n",
    "        yaxis = dict(range=[-1, 1], autorange=False, zeroline=False),\n",
    "        zaxis = dict(range=[-1, 1], autorange=False, zeroline=False),\n",
    "        aspectmode = 'cube',\n",
    "        camera = dict(center=dict(x=0,y=0,z=0),eye=dict(x=1,y=1,z=1))\n",
    "    ),\n",
    "    plot_bgcolor='rgb(255, 255, 255)'\n",
    ")"
   ]
  },
  {
   "cell_type": "code",
   "execution_count": 80,
   "metadata": {},
   "outputs": [
    {
     "data": {
      "application/vnd.plotly.v1+json": {
       "data": [
        {
         "type": "surface",
         "x": [
          [
           -1,
           1
          ],
          [
           -1,
           1
          ]
         ],
         "y": [
          [
           -1,
           -1
          ],
          [
           1,
           1
          ]
         ],
         "z": [
          [
           3,
           1.0000000000000004
          ],
          [
           1.0000000000000004,
           -0.9999999999999997
          ]
         ]
        },
        {
         "type": "surface",
         "x": [
          [
           -1,
           1
          ],
          [
           -1,
           1
          ]
         ],
         "y": [
          [
           -1,
           -1
          ],
          [
           1,
           1
          ]
         ],
         "z": [
          [
           0,
           2
          ],
          [
           -2,
           0
          ]
         ]
        },
        {
         "type": "surface",
         "x": [
          [
           -1,
           1
          ],
          [
           -1,
           1
          ]
         ],
         "y": [
          [
           -1,
           -1
          ],
          [
           1,
           1
          ]
         ],
         "z": [
          [
           1.5333333333333334,
           0.19999999999999996
          ],
          [
           0.8666666666666667,
           -0.46666666666666684
          ]
         ]
        },
        {
         "line": {
          "color": "rgb(205, 12, 24)",
          "width": 10
         },
         "mode": "lines",
         "type": "scatter3d",
         "x": [
          0.5000000000000002,
          0.5000000000000002
         ],
         "y": [
          0.25000000000000006,
          -0.4571067811865474
         ],
         "z": [
          0.25000000000000017,
          0.9571067811865477
         ]
        },
        {
         "line": {
          "color": "rgb(205, 12, 24)",
          "width": 10
         },
         "mode": "lines",
         "type": "scatter3d",
         "x": [
          0.33684210526315794,
          0.661284947524683
         ],
         "y": [
          0.04210526315789476,
          0.8532123688117075
         ],
         "z": [
          0.2947368421052631,
          -0.1919274212870246
         ]
        },
        {
         "line": {
          "color": "rgb(205, 12, 24)",
          "width": 10
         },
         "mode": "lines",
         "type": "scatter3d",
         "x": [
          0.3333333333333335,
          1.1498299142610597
         ],
         "y": [
          0.5333333333333339,
          0.12508504286947092
         ],
         "z": [
          0.13333333333333305,
          -0.27491495713053005
         ]
        },
        {
         "mode": "markers",
         "type": "scatter3d",
         "x": [
          0.5
         ],
         "y": [
          0
         ],
         "z": [
          0.5
         ]
        }
       ],
       "layout": {
        "font": {
         "family": "Verdana"
        },
        "height": 400,
        "plot_bgcolor": "rgb(255, 255, 255)",
        "scene": {
         "aspectmode": "cube",
         "camera": {
          "center": {
           "x": 0,
           "y": 0,
           "z": 0
          },
          "eye": {
           "x": 1,
           "y": 1,
           "z": 1
          }
         },
         "xaxis": {
          "autorange": false,
          "range": [
           -1,
           1
          ],
          "zeroline": false
         },
         "yaxis": {
          "autorange": false,
          "range": [
           -1,
           1
          ],
          "zeroline": false
         },
         "zaxis": {
          "autorange": false,
          "range": [
           -1,
           1
          ],
          "zeroline": false
         }
        },
        "showlegend": false,
        "width": 400
       }
      },
      "text/html": [
       "<div id=\"5fdede11-e3be-4ffb-8eb3-739e666c21c9\" style=\"height: 400px; width: 400px;\" class=\"plotly-graph-div\"></div><script type=\"text/javascript\">require([\"plotly\"], function(Plotly) { window.PLOTLYENV=window.PLOTLYENV || {};window.PLOTLYENV.BASE_URL=\"https://plot.ly\";Plotly.newPlot(\"5fdede11-e3be-4ffb-8eb3-739e666c21c9\", [{\"z\": [[3.0, 1.0000000000000004], [1.0000000000000004, -0.9999999999999997]], \"x\": [[-1.0, 1.0], [-1.0, 1.0]], \"type\": \"surface\", \"y\": [[-1.0, -1.0], [1.0, 1.0]]}, {\"z\": [[0.0, 2.0], [-2.0, 0.0]], \"x\": [[-1.0, 1.0], [-1.0, 1.0]], \"type\": \"surface\", \"y\": [[-1.0, -1.0], [1.0, 1.0]]}, {\"z\": [[1.5333333333333334, 0.19999999999999996], [0.8666666666666667, -0.46666666666666684]], \"x\": [[-1.0, 1.0], [-1.0, 1.0]], \"type\": \"surface\", \"y\": [[-1.0, -1.0], [1.0, 1.0]]}, {\"type\": \"scatter3d\", \"y\": [0.25000000000000006, -0.4571067811865474], \"line\": {\"color\": \"rgb(205, 12, 24)\", \"width\": 10}, \"z\": [0.25000000000000017, 0.9571067811865477], \"mode\": \"lines\", \"x\": [0.5000000000000002, 0.5000000000000002]}, {\"type\": \"scatter3d\", \"y\": [0.04210526315789476, 0.8532123688117075], \"line\": {\"color\": \"rgb(205, 12, 24)\", \"width\": 10}, \"z\": [0.2947368421052631, -0.1919274212870246], \"mode\": \"lines\", \"x\": [0.33684210526315794, 0.661284947524683]}, {\"type\": \"scatter3d\", \"y\": [0.5333333333333339, 0.12508504286947092], \"line\": {\"color\": \"rgb(205, 12, 24)\", \"width\": 10}, \"z\": [0.13333333333333305, -0.27491495713053005], \"mode\": \"lines\", \"x\": [0.3333333333333335, 1.1498299142610597]}, {\"z\": [0.5], \"x\": [0.5], \"type\": \"scatter3d\", \"y\": [0.0], \"mode\": \"markers\"}], {\"plot_bgcolor\": \"rgb(255, 255, 255)\", \"scene\": {\"aspectmode\": \"cube\", \"camera\": {\"center\": {\"z\": 0, \"y\": 0, \"x\": 0}, \"eye\": {\"z\": 1, \"y\": 1, \"x\": 1}}, \"yaxis\": {\"autorange\": false, \"zeroline\": false, \"range\": [-1, 1]}, \"xaxis\": {\"autorange\": false, \"zeroline\": false, \"range\": [-1, 1]}, \"zaxis\": {\"autorange\": false, \"zeroline\": false, \"range\": [-1, 1]}}, \"font\": {\"family\": \"Verdana\"}, \"height\": 400, \"width\": 400, \"showlegend\": false}, {\"linkText\": \"Export to plot.ly\", \"showLink\": true})});</script>"
      ],
      "text/vnd.plotly.v1+html": [
       "<div id=\"5fdede11-e3be-4ffb-8eb3-739e666c21c9\" style=\"height: 400px; width: 400px;\" class=\"plotly-graph-div\"></div><script type=\"text/javascript\">require([\"plotly\"], function(Plotly) { window.PLOTLYENV=window.PLOTLYENV || {};window.PLOTLYENV.BASE_URL=\"https://plot.ly\";Plotly.newPlot(\"5fdede11-e3be-4ffb-8eb3-739e666c21c9\", [{\"z\": [[3.0, 1.0000000000000004], [1.0000000000000004, -0.9999999999999997]], \"x\": [[-1.0, 1.0], [-1.0, 1.0]], \"type\": \"surface\", \"y\": [[-1.0, -1.0], [1.0, 1.0]]}, {\"z\": [[0.0, 2.0], [-2.0, 0.0]], \"x\": [[-1.0, 1.0], [-1.0, 1.0]], \"type\": \"surface\", \"y\": [[-1.0, -1.0], [1.0, 1.0]]}, {\"z\": [[1.5333333333333334, 0.19999999999999996], [0.8666666666666667, -0.46666666666666684]], \"x\": [[-1.0, 1.0], [-1.0, 1.0]], \"type\": \"surface\", \"y\": [[-1.0, -1.0], [1.0, 1.0]]}, {\"type\": \"scatter3d\", \"y\": [0.25000000000000006, -0.4571067811865474], \"line\": {\"color\": \"rgb(205, 12, 24)\", \"width\": 10}, \"z\": [0.25000000000000017, 0.9571067811865477], \"mode\": \"lines\", \"x\": [0.5000000000000002, 0.5000000000000002]}, {\"type\": \"scatter3d\", \"y\": [0.04210526315789476, 0.8532123688117075], \"line\": {\"color\": \"rgb(205, 12, 24)\", \"width\": 10}, \"z\": [0.2947368421052631, -0.1919274212870246], \"mode\": \"lines\", \"x\": [0.33684210526315794, 0.661284947524683]}, {\"type\": \"scatter3d\", \"y\": [0.5333333333333339, 0.12508504286947092], \"line\": {\"color\": \"rgb(205, 12, 24)\", \"width\": 10}, \"z\": [0.13333333333333305, -0.27491495713053005], \"mode\": \"lines\", \"x\": [0.3333333333333335, 1.1498299142610597]}, {\"z\": [0.5], \"x\": [0.5], \"type\": \"scatter3d\", \"y\": [0.0], \"mode\": \"markers\"}], {\"plot_bgcolor\": \"rgb(255, 255, 255)\", \"scene\": {\"aspectmode\": \"cube\", \"camera\": {\"center\": {\"z\": 0, \"y\": 0, \"x\": 0}, \"eye\": {\"z\": 1, \"y\": 1, \"x\": 1}}, \"yaxis\": {\"autorange\": false, \"zeroline\": false, \"range\": [-1, 1]}, \"xaxis\": {\"autorange\": false, \"zeroline\": false, \"range\": [-1, 1]}, \"zaxis\": {\"autorange\": false, \"zeroline\": false, \"range\": [-1, 1]}}, \"font\": {\"family\": \"Verdana\"}, \"height\": 400, \"width\": 400, \"showlegend\": false}, {\"linkText\": \"Export to plot.ly\", \"showLink\": true})});</script>"
      ]
     },
     "metadata": {},
     "output_type": "display_data"
    }
   ],
   "source": [
    "objs = [plane1, plane2, plane3, line1, line2, line3, point1]\n",
    "data = [o.goify() for o in objs]\n",
    "fig = go.Figure(data=data,layout=layout)\n",
    "plot = py.iplot(fig)"
   ]
  },
  {
   "cell_type": "code",
   "execution_count": 73,
   "metadata": {},
   "outputs": [
    {
     "ename": "AttributeError",
     "evalue": "'NoneType' object has no attribute 'data'",
     "output_type": "error",
     "traceback": [
      "\u001b[0;31m---------------------------------------------------------------------------\u001b[0m",
      "\u001b[0;31mAttributeError\u001b[0m                            Traceback (most recent call last)",
      "\u001b[0;32m<ipython-input-73-19767e10be07>\u001b[0m in \u001b[0;36m<module>\u001b[0;34m()\u001b[0m\n\u001b[0;32m----> 1\u001b[0;31m \u001b[0mprint\u001b[0m\u001b[0;34m(\u001b[0m\u001b[0mplot\u001b[0m\u001b[0;34m.\u001b[0m\u001b[0mdata\u001b[0m\u001b[0;34m)\u001b[0m\u001b[0;34m\u001b[0m\u001b[0m\n\u001b[0m",
      "\u001b[0;31mAttributeError\u001b[0m: 'NoneType' object has no attribute 'data'"
     ]
    }
   ],
   "source": []
  },
  {
   "cell_type": "code",
   "execution_count": null,
   "metadata": {
    "collapsed": true
   },
   "outputs": [],
   "source": []
  }
 ],
 "metadata": {
  "kernelspec": {
   "display_name": "Python 3",
   "language": "python",
   "name": "python3"
  },
  "language_info": {
   "codemirror_mode": {
    "name": "ipython",
    "version": 3
   },
   "file_extension": ".py",
   "mimetype": "text/x-python",
   "name": "python",
   "nbconvert_exporter": "python",
   "pygments_lexer": "ipython3",
   "version": "3.5.2"
  }
 },
 "nbformat": 4,
 "nbformat_minor": 2
}
