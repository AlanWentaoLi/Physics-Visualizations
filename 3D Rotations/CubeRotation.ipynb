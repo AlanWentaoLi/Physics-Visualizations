{
 "cells": [
  {
   "cell_type": "code",
   "execution_count": 128,
   "metadata": {},
   "outputs": [
    {
     "data": {
      "text/html": [
       "<script>requirejs.config({paths: { 'plotly': ['https://cdn.plot.ly/plotly-latest.min']},});if(!window.Plotly) {{require(['plotly'],function(plotly) {window.Plotly=plotly;});}}</script>"
      ],
      "text/vnd.plotly.v1+html": [
       "<script>requirejs.config({paths: { 'plotly': ['https://cdn.plot.ly/plotly-latest.min']},});if(!window.Plotly) {{require(['plotly'],function(plotly) {window.Plotly=plotly;});}}</script>"
      ]
     },
     "metadata": {},
     "output_type": "display_data"
    }
   ],
   "source": [
    "import plotly\n",
    "import plotly.offline as py\n",
    "import plotly.graph_objs as go\n",
    "init_notebook_mode(connected=True)\n",
    "import numpy as np\n",
    "from plotly.graph_objs import Surface\n",
    "import json\n",
    "\n",
    "\n"
   ]
  },
  {
   "cell_type": "code",
   "execution_count": 129,
   "metadata": {
    "collapsed": true
   },
   "outputs": [],
   "source": [
    "class Point:\n",
    "    def __init__(self, position):\n",
    "        self.position = np.array(position)\n",
    "    \n",
    "    def gObject(self, color=\"rgb(0,62,116)\"):\n",
    "        point = go.Scatter3d(mode=\"markers\",\n",
    "                             x=[self.position[0]],\n",
    "                             y=[self.position[1]],\n",
    "                             z=[self.position[2]],\n",
    "                             marker=dict(color=color,\n",
    "                                         size=7\n",
    "                                        )\n",
    "                            )\n",
    "        return point"
   ]
  },
  {
   "cell_type": "code",
   "execution_count": 130,
   "metadata": {
    "collapsed": true
   },
   "outputs": [],
   "source": [
    "def roXaxis(theta):\n",
    "    M = np.matrix([[1, 0, 0],\n",
    "                   [0, np.cos(theta), -np.sin(theta)], \n",
    "                   [0, np.sin(theta), np.cos(theta)]\n",
    "                  ])\n",
    "    return M\n",
    "\n",
    "def roYaxis(theta):\n",
    "    M = np.matrix([[np.cos(theta), 0, np.sin(theta)],\n",
    "                   [0, 1, 0],\n",
    "                   [-np.sin(theta), 0, np.cos(theta)]\n",
    "                  ])\n",
    "    return M\n",
    "\n",
    "def roZaxis(theta):\n",
    "    M = np.matrix([[np.cos(theta), -np.sin(theta), 0],\n",
    "                   [np.sin(theta), np.cos(theta), 0],\n",
    "                   [0, 0 ,1]\n",
    "                  ])\n",
    "    return M\n",
    "\n",
    "def computeCompositeFrames(initPoint,rotation,theta):\n",
    "\n",
    "    xpoint = []\n",
    "    ypoint = []\n",
    "    zpoint = []\n",
    "    t = np.linspace(0, theta, 5)\n",
    "    for i in t:\n",
    "        newPoint = rotation(i)*initPoint\n",
    "        ptList = np.reshape(newPoint,(1,3)).tolist()[0]\n",
    "        xpoint.append(ptList[0])\n",
    "        ypoint.append(ptList[1])\n",
    "        zpoint.append(ptList[2])\n",
    "        \n",
    "    return (xpoint[-1],ypoint[-1],zpoint[-1])"
   ]
  },
  {
   "cell_type": "code",
   "execution_count": 131,
   "metadata": {},
   "outputs": [],
   "source": [
    "xx = [0.,0.,0.,0.,1.,1.,1.,1.]\n",
    "yy = [0.,0.,1.,1.,0.,0.,1.,1.]\n",
    "zz = [0.,1.,0.,1.,0.,1.,0.,1.]\n",
    "\n",
    "trace1 = go.Scatter3d(\n",
    "    x=xx,\n",
    "    y=yy,\n",
    "    z=zz,\n",
    "    mode='markers',\n",
    "    marker=dict(\n",
    "        size=12,\n",
    "        line=dict(\n",
    "            color='rgb(0, 0, 0,)',\n",
    "            width=0.5\n",
    "        ),\n",
    "        opacity=0.8\n",
    "    )\n",
    ")\n",
    "\n",
    "\n",
    "\n",
    "xrot = []\n",
    "yrot = []\n",
    "zrot = []\n",
    "for i in range(8):\n",
    "    initPoint = np.matrix([[xx[i]],\n",
    "                            [yy[i]],\n",
    "                            [zz[i]]\n",
    "                            ])\n",
    "    \n",
    "    output = computeCompositeFrames(initPoint,roYaxis,np.pi/6)\n",
    "    xrot.append(output[0])\n",
    "    yrot.append(output[1])\n",
    "    zrot.append(output[2])\n",
    "\n",
    "trace2 = go.Scatter3d(\n",
    "    x=xrot,\n",
    "    y=yrot,\n",
    "    z=zrot,\n",
    "    mode='markers',\n",
    "    marker=dict(\n",
    "        size=12,\n",
    "        line=dict(\n",
    "            color='rgb(255, 255, 255)',\n",
    "            width=0.5\n",
    "        ),\n",
    "        opacity=0.8\n",
    "    )\n",
    ")\n",
    "\n",
    "\n",
    "            \n"
   ]
  },
  {
   "cell_type": "code",
   "execution_count": 132,
   "metadata": {
    "scrolled": true
   },
   "outputs": [
    {
     "data": {
      "application/vnd.plotly.v1+json": {
       "data": [
        {
         "marker": {
          "line": {
           "color": "rgb(0, 0, 0,)",
           "width": 0.5
          },
          "opacity": 0.8,
          "size": 12
         },
         "mode": "markers",
         "type": "scatter3d",
         "x": [
          0,
          0,
          0,
          0,
          1,
          1,
          1,
          1
         ],
         "y": [
          0,
          0,
          1,
          1,
          0,
          0,
          1,
          1
         ],
         "z": [
          0,
          1,
          0,
          1,
          0,
          1,
          0,
          1
         ]
        },
        {
         "marker": {
          "line": {
           "color": "rgb(255, 255, 255)",
           "width": 0.5
          },
          "opacity": 0.8,
          "size": 12
         },
         "mode": "markers",
         "type": "scatter3d",
         "x": [
          0,
          0.49999999999999994,
          0,
          0.49999999999999994,
          0.8660254037844387,
          1.3660254037844386,
          0.8660254037844387,
          1.3660254037844386
         ],
         "y": [
          0,
          0,
          1,
          1,
          0,
          0,
          1,
          1
         ],
         "z": [
          0,
          0.8660254037844387,
          0,
          0.8660254037844387,
          -0.49999999999999994,
          0.36602540378443876,
          -0.49999999999999994,
          0.36602540378443876
         ]
        }
       ],
       "layout": {
        "font": {
         "family": "Verdana"
        },
        "height": 600,
        "plot_bgcolor": "rgb(255, 255, 255)",
        "scene": {
         "aspectmode": "cube",
         "camera": {
          "center": {
           "x": 0,
           "y": 0,
           "z": 0
          },
          "eye": {
           "x": 1,
           "y": -1,
           "z": 1
          }
         },
         "xaxis": {
          "autorange": false,
          "range": [
           -2,
           2
          ],
          "zeroline": false
         },
         "yaxis": {
          "autorange": false,
          "range": [
           -2,
           2
          ],
          "zeroline": false
         },
         "zaxis": {
          "autorange": false,
          "range": [
           -2,
           2
          ],
          "zeroline": false
         }
        },
        "showlegend": true,
        "title": "3D Example",
        "width": 600
       }
      },
      "text/html": [
       "<div id=\"d894ede2-de35-4ca6-8120-e3408e70aa2d\" style=\"height: 600px; width: 600px;\" class=\"plotly-graph-div\"></div><script type=\"text/javascript\">require([\"plotly\"], function(Plotly) { window.PLOTLYENV=window.PLOTLYENV || {};window.PLOTLYENV.BASE_URL=\"https://plot.ly\";Plotly.newPlot(\"d894ede2-de35-4ca6-8120-e3408e70aa2d\", [{\"type\": \"scatter3d\", \"x\": [0.0, 0.0, 0.0, 0.0, 1.0, 1.0, 1.0, 1.0], \"y\": [0.0, 0.0, 1.0, 1.0, 0.0, 0.0, 1.0, 1.0], \"z\": [0.0, 1.0, 0.0, 1.0, 0.0, 1.0, 0.0, 1.0], \"mode\": \"markers\", \"marker\": {\"size\": 12, \"line\": {\"color\": \"rgb(0, 0, 0,)\", \"width\": 0.5}, \"opacity\": 0.8}}, {\"type\": \"scatter3d\", \"x\": [0.0, 0.49999999999999994, 0.0, 0.49999999999999994, 0.8660254037844387, 1.3660254037844386, 0.8660254037844387, 1.3660254037844386], \"y\": [0.0, 0.0, 1.0, 1.0, 0.0, 0.0, 1.0, 1.0], \"z\": [0.0, 0.8660254037844387, 0.0, 0.8660254037844387, -0.49999999999999994, 0.36602540378443876, -0.49999999999999994, 0.36602540378443876], \"mode\": \"markers\", \"marker\": {\"size\": 12, \"line\": {\"color\": \"rgb(255, 255, 255)\", \"width\": 0.5}, \"opacity\": 0.8}}], {\"width\": 600, \"height\": 600, \"showlegend\": true, \"title\": \"3D Example\", \"font\": {\"family\": \"Verdana\"}, \"scene\": {\"xaxis\": {\"range\": [-2, 2], \"autorange\": false, \"zeroline\": false}, \"yaxis\": {\"range\": [-2, 2], \"autorange\": false, \"zeroline\": false}, \"zaxis\": {\"range\": [-2, 2], \"autorange\": false, \"zeroline\": false}, \"aspectmode\": \"cube\", \"camera\": {\"center\": {\"x\": 0, \"y\": 0, \"z\": 0}, \"eye\": {\"x\": 1, \"y\": -1, \"z\": 1}}}, \"plot_bgcolor\": \"rgb(255, 255, 255)\"}, {\"showLink\": true, \"linkText\": \"Export to plot.ly\"})});</script>"
      ],
      "text/vnd.plotly.v1+html": [
       "<div id=\"d894ede2-de35-4ca6-8120-e3408e70aa2d\" style=\"height: 600px; width: 600px;\" class=\"plotly-graph-div\"></div><script type=\"text/javascript\">require([\"plotly\"], function(Plotly) { window.PLOTLYENV=window.PLOTLYENV || {};window.PLOTLYENV.BASE_URL=\"https://plot.ly\";Plotly.newPlot(\"d894ede2-de35-4ca6-8120-e3408e70aa2d\", [{\"type\": \"scatter3d\", \"x\": [0.0, 0.0, 0.0, 0.0, 1.0, 1.0, 1.0, 1.0], \"y\": [0.0, 0.0, 1.0, 1.0, 0.0, 0.0, 1.0, 1.0], \"z\": [0.0, 1.0, 0.0, 1.0, 0.0, 1.0, 0.0, 1.0], \"mode\": \"markers\", \"marker\": {\"size\": 12, \"line\": {\"color\": \"rgb(0, 0, 0,)\", \"width\": 0.5}, \"opacity\": 0.8}}, {\"type\": \"scatter3d\", \"x\": [0.0, 0.49999999999999994, 0.0, 0.49999999999999994, 0.8660254037844387, 1.3660254037844386, 0.8660254037844387, 1.3660254037844386], \"y\": [0.0, 0.0, 1.0, 1.0, 0.0, 0.0, 1.0, 1.0], \"z\": [0.0, 0.8660254037844387, 0.0, 0.8660254037844387, -0.49999999999999994, 0.36602540378443876, -0.49999999999999994, 0.36602540378443876], \"mode\": \"markers\", \"marker\": {\"size\": 12, \"line\": {\"color\": \"rgb(255, 255, 255)\", \"width\": 0.5}, \"opacity\": 0.8}}], {\"width\": 600, \"height\": 600, \"showlegend\": true, \"title\": \"3D Example\", \"font\": {\"family\": \"Verdana\"}, \"scene\": {\"xaxis\": {\"range\": [-2, 2], \"autorange\": false, \"zeroline\": false}, \"yaxis\": {\"range\": [-2, 2], \"autorange\": false, \"zeroline\": false}, \"zaxis\": {\"range\": [-2, 2], \"autorange\": false, \"zeroline\": false}, \"aspectmode\": \"cube\", \"camera\": {\"center\": {\"x\": 0, \"y\": 0, \"z\": 0}, \"eye\": {\"x\": 1, \"y\": -1, \"z\": 1}}}, \"plot_bgcolor\": \"rgb(255, 255, 255)\"}, {\"showLink\": true, \"linkText\": \"Export to plot.ly\"})});</script>"
      ]
     },
     "metadata": {},
     "output_type": "display_data"
    }
   ],
   "source": [
    "layout = dict(\n",
    "    width=600,height=600,\n",
    "    showlegend=True,\n",
    "    title='3D Example',\n",
    "    font = dict(family=\"Verdana\"),\n",
    "    scene = dict(\n",
    "        xaxis = dict(range=[-2, 2], autorange=False, zeroline=False),\n",
    "        yaxis = dict(range=[-2, 2], autorange=False, zeroline=False),\n",
    "        zaxis = dict(range=[-2, 2], autorange=False, zeroline=False),\n",
    "        aspectmode = 'cube',\n",
    "        camera = dict(center=dict(x=0,y=0,z=0),eye=dict(x=1,y=-1,z=1))\n",
    "                ),\n",
    "    plot_bgcolor='rgb(255, 255, 255)'\n",
    ")\n",
    "data = [trace1, trace2]\n",
    "fig=go.Figure(data=data,layout=layout)\n",
    "plotly.offline.iplot(fig)\n"
   ]
  },
  {
   "cell_type": "code",
   "execution_count": null,
   "metadata": {
    "collapsed": true
   },
   "outputs": [],
   "source": []
  },
  {
   "cell_type": "code",
   "execution_count": null,
   "metadata": {
    "collapsed": true
   },
   "outputs": [],
   "source": []
  }
 ],
 "metadata": {
  "kernelspec": {
   "display_name": "Python 3",
   "language": "python",
   "name": "python3"
  },
  "language_info": {
   "codemirror_mode": {
    "name": "ipython",
    "version": 3
   },
   "file_extension": ".py",
   "mimetype": "text/x-python",
   "name": "python",
   "nbconvert_exporter": "python",
   "pygments_lexer": "ipython3",
   "version": "3.6.2"
  }
 },
 "nbformat": 4,
 "nbformat_minor": 2
}
