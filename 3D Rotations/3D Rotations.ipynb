{
 "cells": [
  {
   "cell_type": "markdown",
   "metadata": {},
   "source": [
    "# Planes Intersection"
   ]
  },
  {
   "cell_type": "markdown",
   "metadata": {},
   "source": [
    "## Packages:"
   ]
  },
  {
   "cell_type": "code",
   "execution_count": 112,
   "metadata": {},
   "outputs": [
    {
     "data": {
      "text/html": [
       "<script>requirejs.config({paths: { 'plotly': ['https://cdn.plot.ly/plotly-latest.min']},});if(!window.Plotly) {{require(['plotly'],function(plotly) {window.Plotly=plotly;});}}</script>"
      ],
      "text/vnd.plotly.v1+html": [
       "<script>requirejs.config({paths: { 'plotly': ['https://cdn.plot.ly/plotly-latest.min']},});if(!window.Plotly) {{require(['plotly'],function(plotly) {window.Plotly=plotly;});}}</script>"
      ]
     },
     "metadata": {},
     "output_type": "display_data"
    }
   ],
   "source": [
    "import plotly.offline as py\n",
    "import plotly.graph_objs as go\n",
    "py.init_notebook_mode(connected=True)\n",
    "import numpy as np"
   ]
  },
  {
   "cell_type": "markdown",
   "metadata": {},
   "source": [
    "## Utilities:"
   ]
  },
  {
   "cell_type": "code",
   "execution_count": 113,
   "metadata": {
    "collapsed": true
   },
   "outputs": [],
   "source": [
    "def mesh2D(xlim, ylim, n=5): #Set up Meshgrid\n",
    "    if isinstance(n, int):\n",
    "        x = np.linspace(xlim[0],xlim[1],n)\n",
    "        y = np.linspace(ylim[0],ylim[1],n)\n",
    "    elif isinstance(n, list):\n",
    "        x = np.linspace(xlim[0],xlim[1],n[0])\n",
    "        y = np.linspace(ylim[0],ylim[1],n[1])\n",
    "    else:\n",
    "        raise Exception(\"Invalid Parameter\")\n",
    "        \n",
    "    return np.meshgrid(x, y, sparse=True)"
   ]
  },
  {
   "cell_type": "code",
   "execution_count": 114,
   "metadata": {
    "collapsed": true
   },
   "outputs": [],
   "source": [
    "def normalize(v): #for Evec, Eval\n",
    "    magnitude = np.sqrt(v[0]**2 + v[1]**2 + v[2]**2)\n",
    "    if magnitude==0:\n",
    "        raise ValueError(\"Zero vector cannot be normalized.\")\n",
    "    else:\n",
    "        return v/magnitude"
   ]
  },
  {
   "cell_type": "markdown",
   "metadata": {},
   "source": [
    "## Objects:"
   ]
  },
  {
   "cell_type": "code",
   "execution_count": 115,
   "metadata": {
    "collapsed": true
   },
   "outputs": [],
   "source": [
    "class Line: \n",
    "    def __init__(self, vec, offset):\n",
    "        self.vec = vec\n",
    "        \n",
    "        t = np.linspace(0,1,6) #parameter\n",
    "        self.x = offset[0] + t*vec[0] #x points\n",
    "        self.y = offset[1] + t*vec[1] #y points\n",
    "        self.z = offset[2] + t*vec[2] #z points\n",
    "        \n",
    "    def gObject(self, layout=None):\n",
    "        lineObject = go.Scatter3d(mode=\"lines\",\n",
    "                                  x=self.x,\n",
    "                                  y=self.y,\n",
    "                                  z=self.z,\n",
    "                                  line=dict(color=('rgb(210,64,0)'),\n",
    "                                            width=7)\n",
    "                                 )\n",
    "        return lineObject"
   ]
  },
  {
   "cell_type": "code",
   "execution_count": 116,
   "metadata": {
    "collapsed": true
   },
   "outputs": [],
   "source": [
    "class Sphere:\n",
    "    def __init__(self, radius=5, center=[0, 0, 0]):\n",
    "        self.radius = radius\n",
    "        self.center = center\n",
    "        meshSize = 20\n",
    "        theta = np.linspace(0,2*np.pi,meshSize)\n",
    "        phi = np.linspace(0,np.pi,meshSize)\n",
    "        self.x = radius*np.outer(np.cos(theta),np.sin(phi)) + center[0]\n",
    "        self.y = radius*np.outer(np.sin(theta),np.sin(phi)) + center[1]\n",
    "        self.z = radius*np.outer(np.ones(meshSize),np.cos(phi)) + center[2]\n",
    "        \n",
    "    def gObject(self):\n",
    "        sphere = go.Surface(name='Sphere',\n",
    "                            x=self.x,\n",
    "                            y=self.y,\n",
    "                            z=self.z,\n",
    "                            showscale=False,\n",
    "                            opacity=0.5,\n",
    "                            colorscale=[[0.0, 'rgb(2.137.59)'],\n",
    "                                        [1.0, 'rgb(0,62,116)']\n",
    "                                       ]\n",
    "                            )\n",
    "        return sphere"
   ]
  },
  {
   "cell_type": "code",
   "execution_count": 117,
   "metadata": {
    "collapsed": true
   },
   "outputs": [],
   "source": [
    "class Point:\n",
    "    def __init__(self, position):\n",
    "        self.position = np.array(position)\n",
    "    \n",
    "    def gObject(self):\n",
    "        point = go.Scatter3d(mode=\"markers\",\n",
    "                             x=[self.position[0]],\n",
    "                             y=[self.position[1]],\n",
    "                             z=[self.position[2]],\n",
    "                             marker=dict(color='rgb(12,161,205)',\n",
    "                                         size=7\n",
    "                                        )\n",
    "                            )\n",
    "        return point"
   ]
  },
  {
   "cell_type": "markdown",
   "metadata": {},
   "source": [
    "### 3D Visualization"
   ]
  },
  {
   "cell_type": "code",
   "execution_count": 118,
   "metadata": {
    "collapsed": true
   },
   "outputs": [],
   "source": [
    "line1 = Line([1, 0, 0], [0, 0, 0])\n",
    "line2 = Line([0, 1, 0], [0, 0, 0])\n",
    "line3 = Line([0, 0, 1], [0, 0, 0])\n",
    "sphere1 = Sphere(2*np.sqrt(3))\n",
    "point1 = Point([2,2,2])\n",
    "\n",
    "data = [line1.gObject(),\n",
    "        line2.gObject(),\n",
    "        line3.gObject(),\n",
    "        sphere1.gObject(),\n",
    "        point1.gObject()\n",
    "       ]"
   ]
  },
  {
   "cell_type": "code",
   "execution_count": 119,
   "metadata": {
    "collapsed": true,
    "scrolled": true
   },
   "outputs": [],
   "source": [
    "#fig=go.Figure(data=data)\n",
    "#py.plot(fig)"
   ]
  },
  {
   "cell_type": "markdown",
   "metadata": {},
   "source": []
  },
  {
   "cell_type": "code",
   "execution_count": 120,
   "metadata": {
    "scrolled": true
   },
   "outputs": [],
   "source": [
    "theta1 = np.pi/2\n",
    "theta2 = -np.pi/2\n",
    "t1 = np.linspace(0, theta1, 10)\n",
    "t2 = np.linspace(0, theta2, 10)\n",
    "\n",
    "init = np.matrix([[2], [2], [2]])\n",
    "\n",
    "\n",
    "for i in t1:\n",
    "    Rz = np.matrix([[np.cos(i), -np.sin(i), 0], [np.sin(i), np.cos(i), 0], [0, 0 ,1]])\n",
    "    p1 = Rz*init\n",
    "    traP1 = np.reshape(p1, (1,3))\n",
    "    traP1list = traP1.tolist()[0]\n",
    "    point2 = Point(traP1list)\n",
    "    data.append(point2.gObject())\n",
    "    \n",
    "for i in t1:\n",
    "    Rx = np.matrix([[1, 0, 0], [0, np.cos(i), -np.sin(i)], [0, np.sin(i), np.cos(i)]])\n",
    "    p2 = Rx*p1\n",
    "    traP2 = np.reshape(p2, (1,3))\n",
    "    traP2list = traP2.tolist()[0]\n",
    "    point3 = Point(traP2list)\n",
    "    data.append(point3.gObject())\n",
    "    \n",
    "for i in t1:\n",
    "    Rx = np.matrix([[1, 0, 0], [0, np.cos(i), -np.sin(i)], [0, np.sin(i), np.cos(i)]])\n",
    "    p3 = Rx*init\n",
    "    traP3 = np.reshape(p3, (1,3))\n",
    "    traP3list = traP3.tolist()[0]\n",
    "    point4 = Point(traP3list)\n",
    "    data.append(point4.gObject())\n",
    "    \n",
    "\n",
    "for i in t1:\n",
    "    Rz = np.matrix([[np.cos(i), -np.sin(i), 0], [np.sin(i), np.cos(i), 0], [0, 0 ,1]])\n",
    "    p4 = Rz*p3\n",
    "    traP4 = np.reshape(p4, (1,3))\n",
    "    traP4list = traP4.tolist()[0]\n",
    "    point5 = Point(traP4list)\n",
    "    data.append(point5.gObject())\n",
    "\n",
    "    \n",
    "\n",
    "    \n"
   ]
  },
  {
   "cell_type": "code",
   "execution_count": null,
   "metadata": {
    "collapsed": true
   },
   "outputs": [],
   "source": []
  },
  {
   "cell_type": "code",
   "execution_count": null,
   "metadata": {
    "collapsed": true
   },
   "outputs": [],
   "source": []
  },
  {
   "cell_type": "code",
   "execution_count": 121,
   "metadata": {},
   "outputs": [
    {
     "data": {
      "text/plain": [
       "'file:///Users/rohankamath/Desktop/UROP /Thursday 3D Visualizations/temp-plot.html'"
      ]
     },
     "execution_count": 121,
     "metadata": {},
     "output_type": "execute_result"
    }
   ],
   "source": [
    "fig=go.Figure(data=data)\n",
    "py.plot(fig)"
   ]
  },
  {
   "cell_type": "code",
   "execution_count": null,
   "metadata": {
    "collapsed": true
   },
   "outputs": [],
   "source": []
  }
 ],
 "metadata": {
  "kernelspec": {
   "display_name": "Python 3",
   "language": "python",
   "name": "python3"
  },
  "language_info": {
   "codemirror_mode": {
    "name": "ipython",
    "version": 3
   },
   "file_extension": ".py",
   "mimetype": "text/x-python",
   "name": "python",
   "nbconvert_exporter": "python",
   "pygments_lexer": "ipython3",
   "version": "3.6.2"
  }
 },
 "nbformat": 4,
 "nbformat_minor": 2
}
