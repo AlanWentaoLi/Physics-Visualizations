{
 "cells": [
  {
   "cell_type": "markdown",
   "metadata": {},
   "source": [
    "# 3D Transformations"
   ]
  },
  {
   "cell_type": "markdown",
   "metadata": {},
   "source": [
    "## Packages:"
   ]
  },
  {
   "cell_type": "code",
   "execution_count": null,
   "metadata": {},
   "outputs": [],
   "source": [
    "import plotly.offline as py\n",
    "import plotly.graph_objs as go\n",
    "py.init_notebook_mode(connected=True)\n",
    "import numpy as np\n",
    "import ipywidgets as widgets\n",
    "import json"
   ]
  },
  {
   "cell_type": "markdown",
   "metadata": {},
   "source": [
    "## Utilities:"
   ]
  },
  {
   "cell_type": "code",
   "execution_count": null,
   "metadata": {
    "collapsed": true
   },
   "outputs": [],
   "source": [
    "def mesh2D(xlim, ylim, n=5): #Set up Meshgrid\n",
    "    if isinstance(n, int):\n",
    "        x = np.linspace(xlim[0],xlim[1],n)\n",
    "        y = np.linspace(ylim[0],ylim[1],n)\n",
    "    elif isinstance(n, list):\n",
    "        x = np.linspace(xlim[0],xlim[1],n[0])\n",
    "        y = np.linspace(ylim[0],ylim[1],n[1])\n",
    "    else:\n",
    "        raise Exception(\"Invalid Parameter\")\n",
    "        \n",
    "    return np.meshgrid(x, y, sparse=True)"
   ]
  },
  {
   "cell_type": "code",
   "execution_count": null,
   "metadata": {
    "collapsed": true
   },
   "outputs": [],
   "source": [
    "def normalize(v): #for Evec, Eval\n",
    "    magnitude = np.sqrt(v[0]**2 + v[1]**2 + v[2]**2)\n",
    "    if magnitude==0:\n",
    "        raise ValueError(\"Zero vector cannot be normalized.\")\n",
    "    else:\n",
    "        return v/magnitude"
   ]
  },
  {
   "cell_type": "markdown",
   "metadata": {},
   "source": [
    "## Objects:"
   ]
  },
  {
   "cell_type": "code",
   "execution_count": null,
   "metadata": {
    "collapsed": true
   },
   "outputs": [],
   "source": [
    "class Line: \n",
    "    def __init__(self, pointList):\n",
    "        self.x = []\n",
    "        self.y = []\n",
    "        self.z = []\n",
    "        \n",
    "        for i in range(len(pointList)):\n",
    "            self.x.append(pointList[i][0])\n",
    "            self.y.append(pointList[i][1])\n",
    "            self.z.append(pointList[i][2])\n",
    "        \n",
    "    def gObject(self, name='', color='rgb(210,64,0)'):\n",
    "        lineObject = go.Scatter3d(name=name,\n",
    "                                  mode=\"lines\",\n",
    "                                  x=self.x,\n",
    "                                  y=self.y,\n",
    "                                  z=self.z,\n",
    "                                  line=dict(color=(color),\n",
    "                                            width=7)\n",
    "                                 )\n",
    "        return lineObject"
   ]
  },
  {
   "cell_type": "code",
   "execution_count": null,
   "metadata": {
    "collapsed": true
   },
   "outputs": [],
   "source": [
    "class Sphere:\n",
    "    def __init__(self, radius=5, center=[0, 0, 0]):\n",
    "        self.radius = radius\n",
    "        self.center = center\n",
    "        meshSize = 20\n",
    "        theta = np.linspace(0,2*np.pi,meshSize)\n",
    "        phi = np.linspace(0,np.pi,meshSize)\n",
    "        self.x = radius*np.outer(np.cos(theta),np.sin(phi)) + center[0]\n",
    "        self.y = radius*np.outer(np.sin(theta),np.sin(phi)) + center[1]\n",
    "        self.z = radius*np.outer(np.ones(meshSize),np.cos(phi)) + center[2]\n",
    "        \n",
    "    def gObject(self, name='Sphere', color=[[0.0, 'rgb(0,62,116)'], [1.0, 'rgb(255,255,255)']]):\n",
    "        sphere = go.Surface(name=name,\n",
    "                            x=self.x,\n",
    "                            y=self.y,\n",
    "                            z=self.z,\n",
    "                            showscale=False,\n",
    "                            opacity=0.7,\n",
    "                            colorscale=color\n",
    "                           )       \n",
    "        return sphere"
   ]
  },
  {
   "cell_type": "code",
   "execution_count": null,
   "metadata": {
    "collapsed": true
   },
   "outputs": [],
   "source": [
    "class Point:\n",
    "    def __init__(self, position):\n",
    "        self.position = np.array(position)\n",
    "    \n",
    "    def gObject(self, name='', color='rgb(0,62,116)'):\n",
    "        point = go.Scatter3d(mode=\"markers\",\n",
    "                             name=name,\n",
    "                             x=[self.position[0]],\n",
    "                             y=[self.position[1]],\n",
    "                             z=[self.position[2]],\n",
    "                             marker=dict(color=color,\n",
    "                                         size=7\n",
    "                                        )\n",
    "                            )\n",
    "        return point"
   ]
  },
  {
   "cell_type": "markdown",
   "metadata": {},
   "source": [
    "Orange: 'rgb(210,64,0)'\n",
    "Dark Green: 'rgb(2,137,59)'\n",
    "Imperial Blue: 'rgb(0,62,116)'\n",
    "Pool Blue: 'rgb(2,161,205)'"
   ]
  },
  {
   "cell_type": "markdown",
   "metadata": {},
   "source": [
    "## 3D Visualization\n",
    "\n",
    "### Unit Vectors and a Sphere"
   ]
  },
  {
   "cell_type": "code",
   "execution_count": null,
   "metadata": {
    "collapsed": true
   },
   "outputs": [],
   "source": [
    "data = []\n",
    "for i in range(3):\n",
    "    uvec = [0, 0, 0]\n",
    "    uvec[i] = 1\n",
    "    line = Line([[0, 0, 0], uvec])\n",
    "    data.append(line.gObject('rgb(0,0,0)'))\n",
    "    \n",
    "radius = 2*np.sqrt(3)\n",
    "sphere = Sphere(radius)\n",
    "data.append(sphere.gObject())"
   ]
  },
  {
   "cell_type": "markdown",
   "metadata": {},
   "source": [
    "### Frames"
   ]
  },
  {
   "cell_type": "code",
   "execution_count": null,
   "metadata": {
    "collapsed": true
   },
   "outputs": [],
   "source": [
    "theta1 = np.pi/2\n",
    "t = np.linspace(0, theta1, 10)\n",
    "initialPosition = np.matrix([[2], [2], [2]])"
   ]
  },
  {
   "cell_type": "code",
   "execution_count": null,
   "metadata": {
    "collapsed": true
   },
   "outputs": [],
   "source": [
    "def roXaxis(theta):\n",
    "    M = np.matrix([[1, 0, 0],\n",
    "                   [0, np.cos(theta), -np.sin(theta)], \n",
    "                   [0, np.sin(theta), np.cos(theta)]\n",
    "                  ])\n",
    "    return M\n",
    "\n",
    "def roYaxis(theta):\n",
    "    M = np.matrix([[np.cos(theta), 0, np.sin(theta)],\n",
    "                   [0, 1, 0],\n",
    "                   [-np.sin(theta), 0, np.cos(theta)]\n",
    "                  ])\n",
    "    return M\n",
    "\n",
    "def roZaxis(theta):\n",
    "    M = np.matrix([[np.cos(theta), -np.sin(theta), 0],\n",
    "                   [np.sin(theta), np.cos(theta), 0],\n",
    "                   [0, 0 ,1]\n",
    "                  ])\n",
    "    return M"
   ]
  },
  {
   "cell_type": "code",
   "execution_count": null,
   "metadata": {
    "collapsed": true
   },
   "outputs": [],
   "source": [
    "def computeFrames(rotation, theta, point, frames):\n",
    "    vecPoint = np.matrix([[point[0]],\n",
    "                          [point[1]],\n",
    "                          [point[2]]\n",
    "                         ])\n",
    "    t = np.linspace(0, theta, frames)\n",
    "    \n",
    "    lineList = [point]\n",
    "    output = []\n",
    "    for i in t:\n",
    "        newPoint = rotation(i)*vecPoint\n",
    "        ptList = np.reshape(newPoint,(1,3)).tolist()[0]\n",
    "        lineList.append(ptList)\n",
    "        output.append([Point(ptList).gObject(), Line(lineList).gObject('rgb(210,64,0)')])\n",
    "    return [output,ptList]"
   ]
  },
  {
   "cell_type": "code",
   "execution_count": null,
   "metadata": {
    "collapsed": true
   },
   "outputs": [],
   "source": [
    "def computeCompositeFrames(rotation1,rotation2, theta, point, frames):\n",
    "    vecPoint = np.matrix([[point[0]],\n",
    "                          [point[1]],\n",
    "                          [point[2]]\n",
    "                         ])\n",
    "    t = np.linspace(0, theta, frames)\n",
    "    \n",
    "    lineList = [point]\n",
    "    output = []\n",
    "    for i in t:\n",
    "        newPoint = rotation1(i)*vecPoint\n",
    "        ptList = np.reshape(newPoint,(1,3)).tolist()[0]\n",
    "        lineList.append(ptList)\n",
    "        output.append([Point(ptList).gObject(), Line(lineList).gObject('rgb(210,64,0)')])\n",
    "    for j in t:\n",
    "        newPoint2 = rotation2(j)*newPoint\n",
    "        ptList = np.reshape(newPoint2,(1,3)).tolist()[0]\n",
    "        lineList.append(ptList)\n",
    "        output.append([Point(ptList).gObject(), Line(lineList).gObject('rgb(210,64,0)')])\n",
    "        \n",
    "    return output"
   ]
  },
  {
   "cell_type": "code",
   "execution_count": null,
   "metadata": {
    "collapsed": true
   },
   "outputs": [],
   "source": [
    "# frameSize = 10\n",
    "# frameList = computeFrames(roZaxis, np.pi/2, [2, 2, 2], frameSize)\n",
    "\n",
    "# data.append(frameList[9][0])\n",
    "# data.append(frameList[9][1])\n",
    "\n",
    "# newPoint = [frameList[9][0].x[0],\n",
    "#             frameList[9][0].y[0],\n",
    "#             frameList[9][0].z[0]\n",
    "#            ]\n",
    "\n",
    "# frameList = computeFrames(roXaxis, np.pi/2, newPoint, frameSize)\n",
    "\n",
    "# data.append(frameList[9][0])\n",
    "# data.append(frameList[9][1])\n",
    "\n",
    "# newPoint = [frameList[9][0].x[0],\n",
    "#             frameList[9][0].y[0],\n",
    "#             frameList[9][0].z[0]\n",
    "#            ]\n",
    "\n",
    "# frameList = computeFrames(roYaxis, -np.pi/2, newPoint, frameSize)\n",
    "\n",
    "# data.append(frameList[9][0])\n",
    "# data.append(frameList[9][1])"
   ]
  },
  {
   "cell_type": "markdown",
   "metadata": {
    "collapsed": true
   },
   "source": [
    "frameSize = 10\n",
    "frameList = computeFrames(roZaxis, np.pi/2, [2, 2, 2], frameSize)\n",
    "\n",
    "data.append(frameList[5][0])\n",
    "data.append(frameList[5][1])"
   ]
  },
  {
   "cell_type": "code",
   "execution_count": null,
   "metadata": {
    "collapsed": true,
    "scrolled": true
   },
   "outputs": [],
   "source": [
    "# fig=go.Figure(data=data)\n",
    "# py.plot(fig)"
   ]
  },
  {
   "cell_type": "code",
   "execution_count": null,
   "metadata": {
    "collapsed": true
   },
   "outputs": [],
   "source": [
    "# def rotationPlot(frame):\n",
    "#     global data\n",
    "#     data = []\n",
    "    \n",
    "#     for i in range(3):\n",
    "#         uvec = [0, 0, 0]\n",
    "#         uvec[i] = 1\n",
    "#         line = Line([[0, 0, 0], uvec])\n",
    "#         data.append(line.gObject('rgb(0,0,0)'))\n",
    "        \n",
    "#     radius = 2*np.sqrt(3)\n",
    "#     sphere = Sphere(radius)\n",
    "#     data.append(sphere.gObject())\n",
    "    \n",
    "#     initialPoint = [2, 2, 2]\n",
    "    \n",
    "#     data.append(Point(initialPoint).gObject('rgb(0,0,0)'))\n",
    "    \n",
    "#     frameSize = 10\n",
    "#     frameList1 = computeCompositeFrames(roYaxis,roZaxis,\n",
    "#                               np.pi/2,\n",
    "#                               initialPoint, \n",
    "#                               frameSize)\n",
    "#     frameList2 = computeCompositeFrames(roZaxis,roYaxis,\n",
    "#                               np.pi/2,\n",
    "#                               initialPoint, \n",
    "#                               frameSize)\n",
    "    \n",
    "#     data.append(frameList1[frame][0]) \n",
    "#     data.append(frameList1[frame][1])\n",
    "#     data.append(frameList2[frame][0]) \n",
    "#     data.append(frameList2[frame][1])\n",
    "\n",
    "#     py.iplot(data)\n",
    "    \n",
    "# widgets.interact(rotationPlot,frame=widgets.IntSlider(min=0,max=19,step=1,value=0,continuous_update=True) )"
   ]
  },
  {
   "cell_type": "code",
   "execution_count": null,
   "metadata": {},
   "outputs": [],
   "source": [
    "data = []\n",
    "basisName = [\"iVec\", \"jVec\", \"kVec\"]\n",
    "for i in range(3):\n",
    "    uvec = [0, 0, 0]\n",
    "    uvec[i] = 1\n",
    "    line = Line([[0, 0, 0], uvec])\n",
    "    data.append(line.gObject(basisName[i], 'rgb(0,0,0)'))\n",
    "        \n",
    "radius = 2*np.sqrt(3)\n",
    "sphere = Sphere(radius)\n",
    "data.append(sphere.gObject(name='Sphere'))\n",
    "    \n",
    "initialPoint = [2, 2, 2]\n",
    "    \n",
    "data.append(Point(initialPoint).gObject('initial point', 'rgb(0,0,0)'))\n",
    "\n",
    "frame = []\n",
    "    \n",
    "frameSize = 10\n",
    "frameList1 = computeCompositeFrames(roYaxis,roZaxis,\n",
    "                                    np.pi/2,\n",
    "                                    initialPoint, \n",
    "                                    frameSize)\n",
    "frameList2 = computeCompositeFrames(roZaxis,roYaxis,\n",
    "                                    np.pi/2,\n",
    "                                    initialPoint, \n",
    "                                    frameSize)\n",
    "for i in range(frameSize):\n",
    "    frame.append(dict(data=frameList1[i][0], name=\"frame %i\" %i))    \n",
    "\n",
    "mainData = dict(data=data, frame=frame)\n",
    "\n",
    "print(mainData)"
   ]
  }
 ],
 "metadata": {
  "kernelspec": {
   "display_name": "Python 3",
   "language": "python",
   "name": "python3"
  },
  "language_info": {
   "codemirror_mode": {
    "name": "ipython",
    "version": 3
   },
   "file_extension": ".py",
   "mimetype": "text/x-python",
   "name": "python",
   "nbconvert_exporter": "python",
   "pygments_lexer": "ipython3",
   "version": "3.6.2"
  }
 },
 "nbformat": 4,
 "nbformat_minor": 2
}
