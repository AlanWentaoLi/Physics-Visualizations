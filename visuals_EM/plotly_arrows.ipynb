{
 "cells": [
  {
   "cell_type": "code",
   "execution_count": null,
   "metadata": {
    "scrolled": true
   },
   "outputs": [],
   "source": [
    "import numpy as np\n",
    "from plotly.offline import download_plotlyjs,init_notebook_mode,plot,iplot\n",
    "import plotly.graph_objs as go\n",
    "init_notebook_mode(connected=True)"
   ]
  },
  {
   "cell_type": "markdown",
   "metadata": {},
   "source": [
    "We will use this convention for spherical polars:\n",
    "\n",
    "![spherical polar coordinates](3D_spherical.png)"
   ]
  },
  {
   "cell_type": "code",
   "execution_count": null,
   "metadata": {
    "scrolled": true
   },
   "outputs": [],
   "source": [
    " def p2c(r, theta, phi):\n",
    "    \"\"\"Convert polar unit vector to cartesians\"\"\"\n",
    "    return [r * np.sin(theta) * np.cos(phi),\n",
    "            r * np.sin(theta) * np.sin(phi),\n",
    "            r * np.cos(theta)]\n",
    "\n",
    "def find_wing_length(angle):\n",
    "    \"\"\"\n",
    "    Args:\n",
    "        angle (float) - theta offset in degrees\n",
    "    \"\"\"\n",
    "    sin45 = np.sin(np.pi / 4.)\n",
    "    return sin45 / np.sin(np.deg2rad(135 - angle))"
   ]
  },
  {
   "cell_type": "code",
   "execution_count": null,
   "metadata": {
    "scrolled": true
   },
   "outputs": [],
   "source": [
    "class Arrow:\n",
    "    def __init__(self, theta, phi, wing_angle=5., width=5, color='rgb(0,0,0)'):\n",
    "        \"\"\"\n",
    "        Args:\n",
    "            theta (float) - radians [0, π]\n",
    "            phi (float) - radians [0, 2π]\n",
    "            wing_angle (float) - theta offset of wing tips in degrees (wings always make 45° to shaft)\n",
    "            width (int) - line thickness\n",
    "            color (hex/rgb) - line color\n",
    "        \"\"\"\n",
    "        self.theta = theta\n",
    "        self.phi = phi\n",
    "        self.wing_angle = wing_angle\n",
    "        self.width = width\n",
    "        self.color = color\n",
    "        \n",
    "        shaft_xyz = p2c(1., self.theta, self.phi)\n",
    "        wings_xyz = [p2c(find_wing_length(self.wing_angle), self.theta + np.deg2rad(self.wing_angle), self.phi),\n",
    "                     p2c(find_wing_length(self.wing_angle), self.theta - np.deg2rad(self.wing_angle), self.phi)]\n",
    "        \n",
    "        self.shaft = go.Scatter3d(\n",
    "            x=[0, shaft_xyz[0]], y=[0, shaft_xyz[1]], z=[0, shaft_xyz[2]],\n",
    "            showlegend=False, mode='lines', line={'width': self.width, 'color': self.color}\n",
    "        )\n",
    "        \n",
    "        self.wing1 = go.Scatter3d(\n",
    "            x=[shaft_xyz[0], wings_xyz[0][0]], y=[shaft_xyz[1], wings_xyz[0][1]], z=[shaft_xyz[2], wings_xyz[0][2]],\n",
    "            showlegend=False, mode='lines', line={'width': self.width, 'color': self.color}\n",
    "        )\n",
    "        self.wing2 = go.Scatter3d(\n",
    "            x=[shaft_xyz[0], wings_xyz[1][0]], y=[shaft_xyz[1], wings_xyz[1][1]], z=[shaft_xyz[2], wings_xyz[1][2]],\n",
    "            showlegend=False, mode='lines', line={'width': self.width, 'color': self.color}\n",
    "        )\n",
    "    \n",
    "        self.data = [self.shaft, self.wing1, self.wing2]"
   ]
  },
  {
   "cell_type": "code",
   "execution_count": null,
   "metadata": {
    "scrolled": false
   },
   "outputs": [],
   "source": [
    "arr1 = Arrow(theta=0.2*np.pi, phi=0.1*np.pi, width=2)\n",
    "\n",
    "layout = {\n",
    "    'autosize': True,\n",
    "    'scene': {\n",
    "        'aspectmode': 'cube',\n",
    "        'xaxis': {'range': [-1, 1], 'autorange': False, 'zeroline': True},\n",
    "        'yaxis': {'range': [-1, 1], 'autorange': False, 'zeroline': True},\n",
    "        'zaxis': {'range': [-1, 1], 'autorange': False, 'zeroline': True},\n",
    "        'camera': {\n",
    "            'up': {'x': 0, 'y': 1, 'z': 0} # DOESN'T WORK -- WHY NOT!?\n",
    "        }\n",
    "    }\n",
    "}\n",
    "\n",
    "fig = go.Figure(data=arr1.data, layout=layout)\n",
    "iplot(fig)"
   ]
  },
  {
   "cell_type": "code",
   "execution_count": null,
   "metadata": {},
   "outputs": [],
   "source": []
  }
 ],
 "metadata": {
  "kernelspec": {
   "display_name": "Python 3",
   "language": "python",
   "name": "python3"
  },
  "language_info": {
   "codemirror_mode": {
    "name": "ipython",
    "version": 3
   },
   "file_extension": ".py",
   "mimetype": "text/x-python",
   "name": "python",
   "nbconvert_exporter": "python",
   "pygments_lexer": "ipython3",
   "version": "3.6.1"
  }
 },
 "nbformat": 4,
 "nbformat_minor": 2
}
