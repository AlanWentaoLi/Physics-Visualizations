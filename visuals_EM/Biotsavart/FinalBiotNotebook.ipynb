{
 "cells": [
  {
   "cell_type": "code",
   "execution_count": 1,
   "metadata": {},
   "outputs": [
    {
     "data": {
      "text/html": [
       "<script>requirejs.config({paths: { 'plotly': ['https://cdn.plot.ly/plotly-latest.min']},});if(!window.Plotly) {{require(['plotly'],function(plotly) {window.Plotly=plotly;});}}</script>"
      ],
      "text/vnd.plotly.v1+html": [
       "<script>requirejs.config({paths: { 'plotly': ['https://cdn.plot.ly/plotly-latest.min']},});if(!window.Plotly) {{require(['plotly'],function(plotly) {window.Plotly=plotly;});}}</script>"
      ]
     },
     "metadata": {},
     "output_type": "display_data"
    }
   ],
   "source": [
    "import numpy as np\n",
    "import itertools\n",
    "from plotly.offline import download_plotlyjs,init_notebook_mode,plot,iplot\n",
    "import plotly.graph_objs as go\n",
    "from scipy.integrate import quad\n",
    "\n",
    "init_notebook_mode(connected=True)\n",
    "\n",
    "a = 0.35;\n",
    "shape = \"circle\" \n",
    "perm = 4*np.pi*10e-7 \n",
    "current = 2.; \n",
    "P = np.array([0,0,1]);\n",
    "phi_scal = 0\n",
    "B = np.empty((0, 3))\n",
    "\n",
    "def calc_this(shape,phi_scal,P,a):\n",
    "    if shape == \"circle\":\n",
    "        dI= np.array([-a*np.sin(phi_scal),a*np.cos(phi_scal),0])\n",
    "        r_vec = np.array([P[0]-a*np.cos(phi_scal),P[1]-a*np.sin(phi_scal),P[2]])\n",
    "        \n",
    "    return dI,r_vec \n",
    "\n",
    "def Biot_equation (current,perm,dI,r_vec):\n",
    "    xprod = np.cross(dI,r_vec)\n",
    "    dB = (current/(4*np.pi*(np.linalg.norm(r_vec)**3)))*xprod #should multiply current by perm \n",
    "    return dB\n",
    "\n",
    "def calc_integrand(phi):\n",
    "    a = 0.5;\n",
    "    dI= np.array([-a*np.sin(phi),a*np.cos(phi),0])\n",
    "    rvec = np.array([P[0]-a*np.cos(phi),P[1]-a*np.sin(phi),P[2]])\n",
    "    result =(current/(4*np.pi*(np.linalg.norm(r_vec)**3)))* np.cross(dI,rvec)\n",
    "    return result[i]\n",
    "\n",
    "dI,r_vec = calc_this(\"circle\",phi_scal,P,a)\n",
    "dB= 2*Biot_equation(current,perm,dI,r_vec) #value of 18 is heuristic for diagram \n",
    "\n",
    "for j in range(3):\n",
    "    i=j\n",
    "    zz = quad(calc_integrand,0,2*np.pi)[0]\n",
    "    B = np.append(B,zz,axis=None) #value of 2.5 is heuristic for diagram \n",
    "\n",
    "uu = np.linspace(0, 2 * np.pi, 50)\n",
    "xc = a*np.cos(uu); \n",
    "yc = a*np.sin(uu); \n",
    "zc = np.zeros_like(xc); \n"
   ]
  },
  {
   "cell_type": "code",
   "execution_count": 36,
   "metadata": {
    "scrolled": false
   },
   "outputs": [
    {
     "ename": "SyntaxError",
     "evalue": "invalid syntax (<ipython-input-36-da1c08cdb0f2>, line 49)",
     "output_type": "error",
     "traceback": [
      "\u001b[0;36m  File \u001b[0;32m\"<ipython-input-36-da1c08cdb0f2>\"\u001b[0;36m, line \u001b[0;32m49\u001b[0m\n\u001b[0;31m    y = [0,y3],\u001b[0m\n\u001b[0m    ^\u001b[0m\n\u001b[0;31mSyntaxError\u001b[0m\u001b[0;31m:\u001b[0m invalid syntax\n"
     ]
    }
   ],
   "source": [
    "\"\"\"Plotting script \"\"\"\n",
    "\n",
    "Currenttrace = go.Scatter3d(x = [a*np.cos(phi_scal),dI[0]+a*np.cos(phi_scal)], \n",
    "                      y = [a*np.sin(phi_scal),dI[1]+a*np.sin(phi_scal)], \n",
    "                      z = [0,dI[2]],\n",
    "                      name = \"dI\", \n",
    "                      line = dict(width = 6,color = 'rgb(250,20,0)'),\n",
    "                      marker = dict(size=[0,15],color= 'rgb(250,20,0)',symbol= 'diamond',opacity=1)\n",
    "                      \n",
    "                      )   \n",
    "\n",
    "\n",
    "Magtrace = go.Scatter3d(x = [P[0],0+dB[0]], \n",
    "                      y = [P[1],0+dB[1]], \n",
    "                      z = [P[2],1+dB[2]],\n",
    "                      name = \"dB\",\n",
    "                      line = dict(width = 6, color = 'rgb(50,100,200)'),\n",
    "                      marker = dict(size=[0,15],color= 'rgb(50,100,200)',symbol= 'diamond',opacity=1)\n",
    "                     );\n",
    "\n",
    "Rtrace = go.Scatter3d(x = [a*np.cos(phi_scal),r_vec[0]+a*np.cos(phi_scal)],\n",
    "                      y = [a*np.sin(phi_scal),r_vec[1]+a*np.sin(phi_scal)],\n",
    "                      z = [0,r_vec[2]],\n",
    "                      name = \"R\", \n",
    "                      line = dict(width = 6, color = 'rgb(0,220,0)'),\n",
    "                      marker = dict(size=[0,15],color= 'rgb(0,220,0)',symbol= 'diamond',opacity=1),\n",
    "                     );\n",
    "\n",
    "\n",
    "Btrace = go.Scatter3d(x = [P[0],P[0]+B[0]], \n",
    "                      y = [P[1],P[1]+B[1]], \n",
    "                      z = [P[2],P[2]+B[2]],\n",
    "                      name = \"B field\",\n",
    "                      line = dict(width = 6, color = 'rgb(255,160,75)'),\n",
    "                      marker = dict(size=[0,15],color= 'rgb(255,160,122)',symbol= 'diamond',opacity=1)\n",
    "                     );\n",
    "\n",
    "Circletrace = go.Scatter3d( x =  xc ,\n",
    "                      y = yc,\n",
    "                      z = zc,\n",
    "                      name = \"circle\",\n",
    "                     mode = \"markers\",\n",
    "                     marker = dict(symbol=\"circle\",size=2.5,opacity=1,color= 'rgb(0,0,0)'),\n",
    "                    );\n",
    "\n",
    "x3 = y3 = np.arange(0,1,20);\n",
    "\n",
    "Axial_line = go.Scatter3d( x = [0,x3]\n",
    "                      y = [0,y3],\n",
    "                      z = [0,1+x3],\n",
    "                          name = \"axial\",\n",
    "                     mode = \"line\",\n",
    "                    line = dict(width = 4, color = 'rgb(0,0,0)'),\n",
    "                    marker = dict(symbol=\"circle\",size=0.05,opacity=0.01,color= 'rgb(0,0,0)'),\n",
    "                        \n",
    "\n",
    "\n",
    "                    );\n",
    "\n",
    "Pointtrace = go.Scatter3d(x = [P[0]],\n",
    "                          y= [P[1]],\n",
    "                          z=[P[2]],\n",
    "                          name = 'Point',\n",
    "                          marker = dict(size=4, color= 'rgb(214,11,8)')\n",
    "                         )\n",
    "\n",
    "\n",
    "result= [Currenttrace,Magtrace,Rtrace,Btrace,Circletrace,Pointtrace,Axial_line]\n",
    "\n",
    "fig = dict(data=result)\n",
    "\n",
    "iplot(fig)\n"
   ]
  },
  {
   "cell_type": "code",
   "execution_count": null,
   "metadata": {
    "collapsed": true
   },
   "outputs": [],
   "source": []
  },
  {
   "cell_type": "code",
   "execution_count": 97,
   "metadata": {},
   "outputs": [
    {
     "data": {
      "text/plain": [
       "float"
      ]
     },
     "execution_count": 97,
     "metadata": {},
     "output_type": "execute_result"
    }
   ],
   "source": []
  },
  {
   "cell_type": "code",
   "execution_count": null,
   "metadata": {
    "collapsed": true
   },
   "outputs": [],
   "source": []
  },
  {
   "cell_type": "code",
   "execution_count": 40,
   "metadata": {
    "collapsed": true
   },
   "outputs": [],
   "source": []
  },
  {
   "cell_type": "code",
   "execution_count": 41,
   "metadata": {},
   "outputs": [
    {
     "data": {
      "text/plain": [
       "[1, 2, 3, 1, 2, 2, 2, 3, 88]"
      ]
     },
     "execution_count": 41,
     "metadata": {},
     "output_type": "execute_result"
    }
   ],
   "source": []
  },
  {
   "cell_type": "code",
   "execution_count": null,
   "metadata": {
    "collapsed": true
   },
   "outputs": [],
   "source": []
  }
 ],
 "metadata": {
  "kernelspec": {
   "display_name": "Python 3",
   "language": "python",
   "name": "python3"
  },
  "language_info": {
   "codemirror_mode": {
    "name": "ipython",
    "version": 3
   },
   "file_extension": ".py",
   "mimetype": "text/x-python",
   "name": "python",
   "nbconvert_exporter": "python",
   "pygments_lexer": "ipython3",
   "version": "3.6.2"
  }
 },
 "nbformat": 4,
 "nbformat_minor": 2
}
