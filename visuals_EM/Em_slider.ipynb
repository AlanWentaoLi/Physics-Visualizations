{
 "cells": [
  {
   "cell_type": "code",
   "execution_count": null,
   "metadata": {
    "extensions": {
     "jupyter_dashboards": {
      "version": 1,
      "views": {
       "grid_default": {
        "col": 8,
        "height": 4,
        "hidden": true,
        "row": 7,
        "width": 4
       },
       "report_default": {}
      }
     }
    }
   },
   "outputs": [],
   "source": [
    "import numpy as np\n",
    "from scipy.integrate import tplquad,dblquad\n",
    "from plotly.offline import download_plotlyjs,init_notebook_mode,plot,iplot\n",
    "import plotly.graph_objs as go\n",
    "init_notebook_mode(connected=True)\n",
    "from IPython.display import Image\n",
    "\n",
    "k = 8.987551E9  #coulomb's constant"
   ]
  },
  {
   "cell_type": "code",
   "execution_count": null,
   "metadata": {
    "collapsed": true,
    "extensions": {
     "jupyter_dashboards": {
      "version": 1,
      "views": {
       "grid_default": {
        "hidden": true
       },
       "report_default": {}
      }
     }
    }
   },
   "outputs": [],
   "source": [
    "#NOTE THIS IS FORCE ELEMENT. YOU HAVE TO INTEGRATE THIS THROUGH THE ENTIRE SURFACE TO GET OVERALL FORCE.\n",
    "#outputs force element in direction i, given coulomb's constant k, test charge position p, and density rho for a sphere. \n",
    "\n",
    "def Force_element_sphere(r,theta,phi):\n",
    "    r_vector = np.array([r*np.sin(phi)*np.cos(theta),r*np.sin(phi)*np.sin(theta),r*np.cos(phi)])\n",
    "    distance= p-r_vector\n",
    "    dV = np.linalg.norm(r_vector)**2*np.sin(phi)\n",
    "    dq = dV*rho\n",
    "    dF = dq*k*distance/(np.linalg.norm(distance)**3)\n",
    "    return dF[i]\n",
    "\n",
    "#outputs force element in direction i (i  will be defined later) , given coulomb's constant k, test charge position p, and \n",
    "#density rho for a DISK. \n",
    "\n",
    "def Force_element_disk(r,theta):\n",
    "    r_vector = np.array([r*np.cos(theta),r*np.sin(theta),0])\n",
    "    distance= p-r_vector\n",
    "    dS = np.linalg.norm(r_vector)\n",
    "    dq = dS*rho\n",
    "    dF = dq*k*distance/(np.linalg.norm(distance)**3)\n",
    "    return dF[i]"
   ]
  },
  {
   "cell_type": "code",
   "execution_count": null,
   "metadata": {
    "collapsed": true,
    "extensions": {
     "jupyter_dashboards": {
      "version": 1,
      "views": {
       "grid_default": {
        "hidden": true
       },
       "report_default": {}
      }
     }
    }
   },
   "outputs": [],
   "source": [
    "class surface: \n",
    "    \"EM surface takes arguments density, shape, and linear dim. Linear dim can be radius, width, etc. make_plot returns an array of data that defines the physical surface\"\n",
    "    def __init__(self, density,shape,linear_dim):\n",
    "        self.rho = density\n",
    "        self.s = shape\n",
    "        self.dim= linear_dim\n",
    "    def make_plot(self):\n",
    "        u = np.linspace(0, 2 * np.pi, 40)\n",
    "        v = np.linspace(0, np.pi, 40)\n",
    "        if self.s=='sphere':\n",
    "            x = self.dim*np.outer(np.cos(u), np.sin(v)) #data arrays that define a sphere's surface\n",
    "            y = self.dim*np.outer(np.sin(u), np.sin(v))\n",
    "            z = self.dim*np.outer(np.ones(np.size(u)), np.cos(v))\n",
    "        if self.s=='disk':\n",
    "            x = self.dim*np.outer(np.cos(u), np.sin(v)) #data arrays that define a disk's surface\n",
    "            y = self.dim*np.outer(np.sin(u), np.sin(v))\n",
    "            z = self.dim*np.outer(np.ones(np.size(u))*0, np.cos(v)*0) \n",
    "            #add another shape's surface points here\n",
    "        return [x,y,z]"
   ]
  },
  {
   "cell_type": "code",
   "execution_count": null,
   "metadata": {
    "collapsed": true,
    "extensions": {
     "jupyter_dashboards": {
      "version": 1,
      "views": {
       "grid_default": {
        "hidden": true
       },
       "report_default": {}
      }
     }
    }
   },
   "outputs": [],
   "source": [
    "class test_charge:\n",
    "    \"test charge takes attribute position, which should be a 3d array\"\n",
    "    def __init__(self,position,charge):\n",
    "        self.p = np.array(position)\n",
    "        self.q_1=charge\n",
    "    def force(self,surface):\n",
    "        F = list()\n",
    "        global p,rho,i,q_1  #making sure these values don't get lost in the class by definining them as global.\n",
    "        rho = surface.rho\n",
    "        p = self.p\n",
    "        q_1= ;self.q_1\n",
    "        if surface.s == 'sphere':\n",
    "            for j in range(3): #cycling through the three dimensions of the force (because scipy doesn't do vector integration)\n",
    "                i=j\n",
    "                #tplquad returns the triple integral of the force\n",
    "                F.append(tplquad(Force_element_sphere,0,np.pi,lambda phi: 0, lambda phi: 2*np.pi,\n",
    "                                 lambda phi,theta: 0, lambda phi, theta: surface.dim,epsabs=100000)[0]) #epsabs is high because we want a fast integration\n",
    "        elif surface.s=='disk':\n",
    "            for j in range(3):\n",
    "                i=j\n",
    "                #tplquad returns the triple integral of the force\n",
    "                F.append(dblquad(Force_element_disk,0,2*np.pi,lambda theta: 0, lambda theta: surface.dim,epsabs=100000)[0])\n",
    "        return F\n",
    "\n"
   ]
  },
  {
   "cell_type": "code",
   "execution_count": null,
   "metadata": {
    "collapsed": true,
    "extensions": {
     "jupyter_dashboards": {
      "version": 1,
      "views": {
       "grid_default": {
        "hidden": true
       },
       "report_default": {}
      }
     }
    }
   },
   "outputs": [],
   "source": [
    "#defining our initial surface and test charge\n",
    "\n",
    "p=[2.,2.,2.]\n",
    "sphere=surface(density= 1.,shape = 'sphere', linear_dim= 1.)\n",
    "test=test_charge(p)\n",
    "surf=sphere.make_plot()\n",
    "F= test.force(sphere)\n",
    "\n",
    "#creating our initial surface, point, and force(line) plot\n",
    "\n",
    "trace1 = go.Surface(\n",
    "            colorscale = [[0,'rgb('+str(115)+',7,122)'],[1,'rgb('+str(80)+',80,230)']],\n",
    "            showscale=False,\n",
    "            z = surf[2],\n",
    "            x= surf[0],\n",
    "            y = surf[1])\n",
    "trace2 = go.Scatter3d(\n",
    "            x = [p[0],p[0]+F[0]*(0.5*10**(-9))],\n",
    "            y= [p[1],p[1]+F[1]*(0.5*10**(-9))],\n",
    "            z=[p[2],p[2]+F[2]*(0.5*10**(-9))],\n",
    "            marker = dict(\n",
    "                    size=2,\n",
    "                    color= 'rgb(21,117,22)',\n",
    "                    symbol= 'diamond'\n",
    "                    ),\n",
    "            line=dict(\n",
    "                    width=5,\n",
    "                    color='rgb(21,117,22)',\n",
    "                    ))\n",
    "trace3 = go.Scatter3d(\n",
    "            x = [p[0]],\n",
    "            y= [p[1]],\n",
    "            z=[p[2]],\n",
    "            marker = dict(\n",
    "                    size=5,\n",
    "                    color= 'rgb(214,11,8)'\n",
    "                    )\n",
    "            )\n",
    "data=[trace1,trace2,trace3]"
   ]
  },
  {
   "cell_type": "code",
   "execution_count": null,
   "metadata": {
    "collapsed": true,
    "extensions": {
     "jupyter_dashboards": {
      "version": 1,
      "views": {
       "grid_default": {
        "hidden": true
       },
       "report_default": {}
      }
     }
    }
   },
   "outputs": [],
   "source": [
    "layout = dict(\n",
    "                width = 700,height=700,\n",
    "                autosize=True,\n",
    "                scene = dict(\n",
    "                xaxis = dict(range=[-8, 8], autorange=False, zeroline=False),\n",
    "                yaxis= dict(range=[-8, 8], autorange=False, zeroline=False),\n",
    "                zaxis=dict(range=[-8, 8], autorange=False, zeroline=False),\n",
    "                aspectmode = 'cube',\n",
    "                camera = dict(center=dict(x=0,y=0,z=0),eye=dict(x=1,y=-1,z=0.1))\n",
    "                ),\n",
    "                margin=dict(),\n",
    "                showlegend = False\n",
    "                )\n",
    "\n",
    "#creating slider frames, that cycle through x position of test charge\n",
    "slider_range=6\n",
    "steps=[]\n",
    "for i in range(0,slider_range,1):\n",
    "    p=[i,2.,2.]\n",
    "    test=test_charge(p)\n",
    "    F= test.force(sphere)\n",
    "    step = dict(\n",
    "        method='update',\n",
    "        args=[{'x':[surf[0],[p[0],p[0]+F[0]*(0.5*10**(-9))],[p[0]]],\n",
    "                'y':[surf[1],[p[1],p[1]+F[1]*(0.5*10**(-9))],[p[1]]],\n",
    "                'z':[surf[2],[p[2],p[2]+F[2]*(0.5*10**(-9))],[p[2]]]}]\n",
    "    )\n",
    "    steps.append(step)\n",
    "    \n",
    "sliders= [dict(\n",
    "    active=2,\n",
    "    currentvalue={'prefix':'x position'},\n",
    "    pad={'t':slider_range},\n",
    "    steps=steps\n",
    ")]\n",
    "layout['sliders'] = sliders"
   ]
  },
  {
   "cell_type": "code",
   "execution_count": null,
   "metadata": {
    "extensions": {
     "jupyter_dashboards": {
      "version": 1,
      "views": {
       "grid_default": {
        "col": 0,
        "height": 24,
        "hidden": false,
        "row": 3,
        "width": null
       },
       "report_default": {}
      }
     }
    },
    "scrolled": false
   },
   "outputs": [],
   "source": [
    "fig=go.Figure(data=data,layout=layout)\n",
    "iplot(fig)"
   ]
  },
  {
   "cell_type": "markdown",
   "metadata": {
    "collapsed": true,
    "extensions": {
     "jupyter_dashboards": {
      "version": 1,
      "views": {
       "grid_default": {
        "col": 0,
        "height": 3,
        "hidden": false,
        "row": 0,
        "width": 12
       },
       "report_default": {}
      }
     }
    }
   },
   "source": [
    "<p>\n",
    "  \n",
    "</p>\n",
    "<font size=\"26\">Electric Field On Point Charge</font>"
   ]
  },
  {
   "cell_type": "code",
   "execution_count": null,
   "metadata": {
    "extensions": {
     "jupyter_dashboards": {
      "version": 1,
      "views": {
       "grid_default": {
        "col": 8,
        "height": 8,
        "hidden": false,
        "row": 27,
        "width": 4
       },
       "report_default": {}
      }
     }
    }
   },
   "outputs": [],
   "source": [
    "Image(\"http://www.antenna-theory.com/definitions/maxwellseq.jpg\")"
   ]
  },
  {
   "cell_type": "code",
   "execution_count": null,
   "metadata": {
    "extensions": {
     "jupyter_dashboards": {
      "version": 1,
      "views": {
       "grid_default": {
        "hidden": true
       },
       "report_default": {}
      }
     }
    }
   },
   "outputs": [],
   "source": []
  },
  {
   "cell_type": "code",
   "execution_count": null,
   "metadata": {
    "collapsed": true,
    "extensions": {
     "jupyter_dashboards": {
      "version": 1,
      "views": {
       "grid_default": {
        "hidden": true
       },
       "report_default": {}
      }
     }
    }
   },
   "outputs": [],
   "source": []
  },
  {
   "cell_type": "code",
   "execution_count": null,
   "metadata": {
    "collapsed": true,
    "extensions": {
     "jupyter_dashboards": {
      "version": 1,
      "views": {
       "grid_default": {
        "hidden": true
       },
       "report_default": {}
      }
     }
    }
   },
   "outputs": [],
   "source": []
  }
 ],
 "metadata": {
  "extensions": {
   "jupyter_dashboards": {
    "activeView": "grid_default",
    "version": 1,
    "views": {
     "grid_default": {
      "cellMargin": 10,
      "defaultCellHeight": 20,
      "maxColumns": 12,
      "name": "grid",
      "type": "grid"
     },
     "report_default": {
      "name": "report",
      "type": "report"
     }
    }
   }
  },
  "kernelspec": {
   "display_name": "Python 3",
   "language": "python",
   "name": "python3"
  },
  "language_info": {
   "codemirror_mode": {
    "name": "ipython",
    "version": 3
   },
   "file_extension": ".py",
   "mimetype": "text/x-python",
   "name": "python",
   "nbconvert_exporter": "python",
   "pygments_lexer": "ipython3",
   "version": "3.6.2"
  },
  "widgets": {
   "state": {
    "152426637afa4b2b80b49eb907501848": {
     "views": [
      {
       "cell_index": 5
      }
     ]
    }
   },
   "version": "1.2.0"
  }
 },
 "nbformat": 4,
 "nbformat_minor": 2
}
