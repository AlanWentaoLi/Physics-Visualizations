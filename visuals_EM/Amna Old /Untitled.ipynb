{
 "cells": [
  {
   "cell_type": "code",
   "execution_count": 10,
   "metadata": {},
   "outputs": [
    {
     "data": {
      "text/plain": [
       "'{\"101\": {\"class\": \"V\", \"Name\": \"Rohit\", \"Roll_no\": 7}, \"102\": {\"class\": \"V\", \"Name\": \"David\", \"Roll_no\": 8}, \"103\": {\"class\": \"V\", \"Name\": \"Samiya\", \"Roll_no\": 12}}'"
      ]
     },
     "execution_count": 10,
     "metadata": {},
     "output_type": "execute_result"
    }
   ],
   "source": [
    "import json \n",
    "\n",
    "student = {\"101\":{\"class\":'V', \"Name\":'Rohit',  \"Roll_no\":7},\n",
    "           \"102\":{\"class\":'V', \"Name\":'David',  \"Roll_no\":8},\n",
    "           \"103\":{\"class\":'V', \"Name\":'Samiya', \"Roll_no\":12}}\n",
    "\n",
    "\n"
   ]
  },
  {
   "cell_type": "code",
   "execution_count": null,
   "metadata": {
    "collapsed": true
   },
   "outputs": [],
   "source": []
  }
 ],
 "metadata": {
  "kernelspec": {
   "display_name": "Python 3",
   "language": "python",
   "name": "python3"
  },
  "language_info": {
   "codemirror_mode": {
    "name": "ipython",
    "version": 3
   },
   "file_extension": ".py",
   "mimetype": "text/x-python",
   "name": "python",
   "nbconvert_exporter": "python",
   "pygments_lexer": "ipython3",
   "version": "3.6.2"
  }
 },
 "nbformat": 4,
 "nbformat_minor": 2
}
