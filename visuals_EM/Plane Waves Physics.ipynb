{
 "cells": [
  {
   "cell_type": "code",
   "execution_count": null,
   "metadata": {},
   "outputs": [],
   "source": [
    "import numpy as np\n",
    "import cmath\n",
    "import matplotlib.pyplot as plt\n",
    "from plotly.offline import download_plotlyjs,init_notebook_mode,plot,iplot\n",
    "init_notebook_mode(connected=True)\n",
    "import plotly.graph_objs as go"
   ]
  },
  {
   "cell_type": "code",
   "execution_count": null,
   "metadata": {
    "collapsed": true
   },
   "outputs": [],
   "source": [
    "def run(angle, n1, n2, frames, interferance=True, graph=True):\n",
    "    \"\"\"\n",
    "    Creates a list of frames that progress in time\n",
    "    \"\"\"\n",
    "    theta_i_deg = angle\n",
    "\n",
    "    # calculate critical angle if appropriate\n",
    "    theta_crit = 0.5*np.pi + 0.0001\n",
    "    if n1>n2:\n",
    "        theta_crit - np.arcsin(n2/n1)\n",
    "\n",
    "    theta_i = np.deg2rad(theta_i_deg)\n",
    "\n",
    "    #Time normalised in wave periods\n",
    "    omega = 2.0*np.pi\n",
    "\n",
    "    #Distances normalised by vacuum wavelength of wave\n",
    "    k1 = 2.0*np.pi*n1\n",
    "    k2 = 2.0*np.pi*n2\n",
    "\n",
    "    #Use Snells Law\n",
    "    cos_theta_t = cmath.sqrt(1.0-(n1*np.sin(theta_i)/n2)**2)\n",
    "\n",
    "    #Calculate normalised components of k vectors\n",
    "    #x direction is parallel to interfeace\n",
    "    #y direction is normal to interface\n",
    "    k1x = k1*np.sin(theta_i)\n",
    "    k1y = k1*np.cos(theta_i)\n",
    "    k2x = k1x\n",
    "    k2y = k2*cos_theta_t\n",
    "\n",
    "    #Calculate reflection anf transmission coefficients\n",
    "    if theta_i < theta_crit:\n",
    "        denom = n1*cos_theta_t + n2*np.cos(theta_i)\n",
    "        rp = (n1*cos_theta_t - n2*np.cos(theta_i))/denom\n",
    "        tp = 2.0*n1*np.cos(theta_i)/denom\n",
    "        energyCheck = rp**2 + tp**2*n2*cos_theta_t/(n1*np.cos(theta_i))\n",
    "    else:\n",
    "        rp = 1.\n",
    "        tp = 2.0*n1/n2\n",
    "        energyCheck=rp**2\n",
    "\n",
    "    #Maximum Amplitude\n",
    "    amp = [1.0, abs(rp) + 1, abs(tp)]\n",
    "    maxAmp = max(amp)\n",
    "\n",
    "    t_0 = 0\n",
    "    tFinal = 3\n",
    "    numFrames = frames\n",
    "    interval = (tFinal - t_0)/numFrames\n",
    "\n",
    "    xMax = 2.0\n",
    "    yMin = -2.0\n",
    "    yMax = 2.0\n",
    "    x = np.arange(0., xMax, 0.02)\n",
    "    y = np.arange(yMin, yMax, 0.02)\n",
    "    X,Y = np.meshgrid(x, y)\n",
    "\n",
    "    logindpos = Y>=0\n",
    "    logindneg = Y<0\n",
    "    \n",
    "    data =[]\n",
    "    raw=[]\n",
    "    for k in range(0,numFrames):\n",
    "        t = t_0 + k*interval\n",
    "\n",
    "        E1inc = (np.exp(1j*(k1x*X + k1y*Y - omega*t))).real\n",
    "        E1tot = (np.exp(1j*(k1x*X + k1y*Y - omega*t))).real + (rp*np.exp(1j*(k1x*X - k1y*Y - omega*t))).real\n",
    "        Etrans = (tp*np.exp(1j*(k2x*X + k2y*Y - omega*t))).real\n",
    "        \n",
    "        if interferance==True:\n",
    "            E1 = np.multiply(logindneg, E1tot)+ np.multiply(logindpos, Etrans)\n",
    "        else:\n",
    "            E1 = np.multiply(logindneg, E1inc)+ np.multiply(logindpos, Etrans)\n",
    "\n",
    "        #trace = go.Heatmap(z=E1, showscale=False)\n",
    "        trace = go.Contour(z=E1, colorscale='Portland', showscale=False, contours = dict(coloring = 'heatmap', showlines=False))\n",
    "        trace['z'] = trace['z'].tolist()\n",
    "        data.append(trace)\n",
    "        E1 = E1.tolist()\n",
    "        raw.append(E1)\n",
    "    \n",
    "    if graph:\n",
    "         return data\n",
    "    else:\n",
    "        return raw\n",
    "   "
   ]
  },
  {
   "cell_type": "code",
   "execution_count": null,
   "metadata": {
    "collapsed": true
   },
   "outputs": [],
   "source": [
    "# data = run(angle=45, n1=1.5, n2=1., interferance=False, graph=False)\n",
    "# layout = dict(width=500, height=500)"
   ]
  },
  {
   "cell_type": "code",
   "execution_count": null,
   "metadata": {},
   "outputs": [],
   "source": [
    "# fig=dict(data=[data[0]], layout=layout)\n",
    "# iplot(fig)"
   ]
  },
  {
   "cell_type": "code",
   "execution_count": null,
   "metadata": {
    "collapsed": true
   },
   "outputs": [],
   "source": [
    "# import json\n",
    "\n",
    "# with open('heatmaps.JSON', 'w') as outfile: \n",
    "#     json.dump(data, outfile)"
   ]
  },
  {
   "cell_type": "code",
   "execution_count": null,
   "metadata": {},
   "outputs": [],
   "source": [
    "raw = run(angle=40, n1=1.5, n2=1., frames=10, interferance=False, graph=False)"
   ]
  },
  {
   "cell_type": "code",
   "execution_count": null,
   "metadata": {},
   "outputs": [],
   "source": [
    "import json\n",
    "\n",
    "with open('rawHeatData.JSON', 'w') as outfile: \n",
    "    json.dump(raw, outfile)"
   ]
  }
 ],
 "metadata": {
  "kernelspec": {
   "display_name": "Python 3",
   "language": "python",
   "name": "python3"
  },
  "language_info": {
   "codemirror_mode": {
    "name": "ipython",
    "version": 3
   },
   "file_extension": ".py",
   "mimetype": "text/x-python",
   "name": "python",
   "nbconvert_exporter": "python",
   "pygments_lexer": "ipython3",
   "version": "3.6.2"
  }
 },
 "nbformat": 4,
 "nbformat_minor": 2
}
