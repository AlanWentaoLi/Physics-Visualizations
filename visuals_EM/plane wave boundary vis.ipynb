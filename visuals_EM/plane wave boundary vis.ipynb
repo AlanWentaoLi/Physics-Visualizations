{
 "cells": [
  {
   "cell_type": "code",
   "execution_count": null,
   "metadata": {},
   "outputs": [],
   "source": [
    "import numpy as np\n",
    "from plotly.offline import download_plotlyjs, init_notebook_mode, plot, iplot\n",
    "import plotly.graph_objs as go\n",
    "init_notebook_mode(connected=True)"
   ]
  },
  {
   "cell_type": "code",
   "execution_count": null,
   "metadata": {},
   "outputs": [],
   "source": [
    "c = 3e8 # Speed of light\n",
    "w_conversion = 6.92e5 # Factor to make plot wavelength reasonable"
   ]
  },
  {
   "cell_type": "code",
   "execution_count": null,
   "metadata": {},
   "outputs": [],
   "source": [
    "class Wave:\n",
    "    def __init__(self, theta, polarisation, w=3.46e15, n1=1.):\n",
    "        \"\"\"\n",
    "        Args:\n",
    "            theta (float) - [radians] {0 to π}\n",
    "            polarisation (str) - {'s'/'p'} whether E or B is parallel to the boundary\n",
    "            w (float) - [rad s^-1] Angular frequency (default: green light)\n",
    "            n1 (float) - The incident material's refractive index\n",
    "        \"\"\"\n",
    "        self.theta = theta\n",
    "        self.polarisation = polarisation"
   ]
  },
  {
   "cell_type": "code",
   "execution_count": null,
   "metadata": {
    "scrolled": false
   },
   "outputs": [],
   "source": [
    "x = np.linspace(0, 1, 50)\n",
    "y = np.linspace(0, 1, 50)\n",
    "xx, yy = np.meshgrid(x, y)\n",
    "\n",
    "def plane_wave(angle, phase):\n",
    "    return np.sin((np.cos(np.deg2rad(angle)) * 8*np.pi * (xx - phase)) + (np.sin(np.deg2rad(angle)) * 8*np.pi * (yy - phase)))\n",
    "\n",
    "angle = 0\n",
    "\n",
    "zz = plane_wave(angle, 0)\n",
    "\n",
    "trace = go.Heatmap(\n",
    "    x=x,\n",
    "    y=y,\n",
    "    z=zz,\n",
    "    colorscale='Viridis'\n",
    ")\n",
    "layout = {\n",
    "    'yaxis': {\n",
    "        'scaleanchor': 'x'\n",
    "    },\n",
    "    'height': 600,\n",
    "    'width': 600,\n",
    "    'updatemenus': [{\n",
    "        'type': 'buttons',\n",
    "        'buttons': [{\n",
    "            'label': 'Play',\n",
    "            'method': 'animate',\n",
    "            'args': [\n",
    "                None,\n",
    "                {\n",
    "                    'frame': {'duration': 0, 'redraw': True},\n",
    "                    'fromcurrent': False,\n",
    "                    'transition': {'duration': 0, 'easing': 'linear'}\n",
    "                }\n",
    "            ]\n",
    "        }]\n",
    "    }]\n",
    "}\n",
    "frames = [\n",
    "    {\n",
    "        'data': [{\n",
    "            'z': plane_wave(angle, phase),\n",
    "            'type': 'heatmap'\n",
    "        }]\n",
    "    } for phase in np.linspace(0, 0.2, 20)\n",
    "]\n",
    "\n",
    "data=[trace]\n",
    "fig = go.Figure(data=data, layout=layout, frames=frames)\n",
    "iplot(fig)\n"
   ]
  },
  {
   "cell_type": "code",
   "execution_count": null,
   "metadata": {},
   "outputs": [],
   "source": []
  }
 ],
 "metadata": {
  "kernelspec": {
   "display_name": "Python 3",
   "language": "python",
   "name": "python3"
  },
  "language_info": {
   "codemirror_mode": {
    "name": "ipython",
    "version": 3
   },
   "file_extension": ".py",
   "mimetype": "text/x-python",
   "name": "python",
   "nbconvert_exporter": "python",
   "pygments_lexer": "ipython3",
   "version": "3.6.1"
  }
 },
 "nbformat": 4,
 "nbformat_minor": 2
}
