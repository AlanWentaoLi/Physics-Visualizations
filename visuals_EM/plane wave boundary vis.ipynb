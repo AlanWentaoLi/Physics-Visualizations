{
 "cells": [
  {
   "cell_type": "code",
   "execution_count": null,
   "metadata": {},
   "outputs": [],
   "source": [
    "%matplotlib notebook\n",
    "import numpy as np\n",
    "import matplotlib.pyplot as plt\n",
    "import matplotlib.animation as animation"
   ]
  },
  {
   "cell_type": "code",
   "execution_count": null,
   "metadata": {},
   "outputs": [],
   "source": [
    "c = 3e8 # Speed of light\n",
    "w_conversion = 6.92e5 # Factor to make plot wavelength reasonable"
   ]
  },
  {
   "cell_type": "code",
   "execution_count": null,
   "metadata": {},
   "outputs": [],
   "source": [
    "class Wave:\n",
    "    def __init__(self, theta, polarisation, w=3.46e15, n1=1.):\n",
    "        \"\"\"\n",
    "        Args:\n",
    "            theta (float) - [radians] {0 to π}\n",
    "            polarisation (str) - {'s'/'p'} whether E or B is parallel to the boundary\n",
    "            w (float) - [rad s^-1] Angular frequency (default: green light)\n",
    "            n1 (float) - The incident material's refractive index\n",
    "        \"\"\"\n",
    "        self.theta = theta\n",
    "        self.polarisation = polarisation"
   ]
  },
  {
   "cell_type": "code",
   "execution_count": null,
   "metadata": {},
   "outputs": [],
   "source": [
    "fig = plt.figure()\n",
    "\n",
    "\n",
    "x = np.linspace(0, 1, 200)\n",
    "y = np.linspace(0, 1, 200).reshape(-1, 1)\n",
    "phase = 0\n",
    "\n",
    "def plane_wave(x, y, angle, phase):\n",
    "    return np.sin((np.cos(np.deg2rad(angle)) * 8*np.pi * (x - phase)) + (np.sin(np.deg2rad(angle)) * 8*np.pi * (y - phase)))\n",
    "\n",
    "\n",
    "im = plt.imshow(plane_wave(x, y, 0, 0), animated=True)\n",
    "\n",
    "\n",
    "def updatefig(*args):\n",
    "    global phase\n",
    "    phase += 0.005\n",
    "    im.set_array(plane_wave(x, y, 20, phase))\n",
    "    return im,\n",
    "\n",
    "ani = animation.FuncAnimation(fig, updatefig, interval=20, blit=True)\n",
    "plt.show()"
   ]
  },
  {
   "cell_type": "code",
   "execution_count": null,
   "metadata": {},
   "outputs": [],
   "source": []
  }
 ],
 "metadata": {
  "kernelspec": {
   "display_name": "Python 3",
   "language": "python",
   "name": "python3"
  },
  "language_info": {
   "codemirror_mode": {
    "name": "ipython",
    "version": 3
   },
   "file_extension": ".py",
   "mimetype": "text/x-python",
   "name": "python",
   "nbconvert_exporter": "python",
   "pygments_lexer": "ipython3",
   "version": "3.6.1"
  }
 },
 "nbformat": 4,
 "nbformat_minor": 2
}
