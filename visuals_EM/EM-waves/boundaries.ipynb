{
 "cells": [
  {
   "cell_type": "code",
   "execution_count": null,
   "metadata": {
    "collapsed": true
   },
   "outputs": [],
   "source": [
    "import numpy as np\n",
    "from plotly.offline import download_plotlyjs, init_notebook_mode, plot, iplot\n",
    "import plotly.graph_objs as go\n",
    "init_notebook_mode(connected=True)"
   ]
  },
  {
   "cell_type": "markdown",
   "metadata": {},
   "source": [
    "## Simple boundary example\n",
    "\n",
    "First, let's just have normal incidence, with lines to show the propagation direction.\n",
    "\n",
    "<img title=\"Nomally incident EM wave\" src=\"normal-incidence.png\" width=\"602px\">\n",
    "\n",
    "The equations governing this interaction are\n",
    "\n",
    "$$\\mathbf{E_i} = \\mathbf{E_{i,0}} e^{i (k z - \\omega_i t)}, \\qquad \\mathbf{E_t} = \\mathbf{E_{t,0}} e^{i (k z - \\omega_t t)}, \\qquad \\mathbf{E_r} = \\mathbf{E_{r,0}} e^{i (-k z - \\omega_r t)}$$\n",
    "\n",
    "N.B. the reflected wave propagates in the $-z$ direction"
   ]
  },
  {
   "cell_type": "code",
   "execution_count": null,
   "metadata": {
    "collapsed": true
   },
   "outputs": [],
   "source": [
    "class Wave:\n",
    "    def __init__(self, angle, E_0, k, w):\n",
    "        \"\"\"\n",
    "        Args:\n",
    "            E (float) - Magnitude of the E field\n",
    "            k (float) - Wavenumber\n",
    "            w (float) - Angular frequency\n",
    "        \"\"\"\n",
    "        self.angle = angle\n",
    "        self.E_0 = E_0\n",
    "        self.B_0 = 0\n",
    "        self.k = k\n",
    "        self.w = w\n",
    "    \n",
    "\n",
    "class Incident(Wave):\n",
    "    def __init__(self, angle, E_0i, k, w, polarisation):\n",
    "        \"\"\"\n",
    "        Args:\n",
    "            polarisation - TODO\n",
    "        \"\"\"\n",
    "#         self.polarisation = polarisation\n",
    "        Wave.__init__(self, angle, E_0i, k, w)\n",
    "        \n",
    "    def transmit(self):\n",
    "        return Transmitted()\n",
    "\n",
    "\n",
    "class Transmitted(Wave):\n",
    "    def __init__(self, angle):\n",
    "        Wave.__init__(self, )\n",
    "\n",
    "\n",
    "class Reflected(Wave):\n",
    "    def __init__(self):\n",
    "        pass\n",
    "\n",
    "\n"
   ]
  }
 ],
 "metadata": {
  "kernelspec": {
   "display_name": "Python 3",
   "language": "python",
   "name": "python3"
  },
  "language_info": {
   "codemirror_mode": {
    "name": "ipython",
    "version": 3
   },
   "file_extension": ".py",
   "mimetype": "text/x-python",
   "name": "python",
   "nbconvert_exporter": "python",
   "pygments_lexer": "ipython3",
   "version": "3.6.1"
  }
 },
 "nbformat": 4,
 "nbformat_minor": 2
}
