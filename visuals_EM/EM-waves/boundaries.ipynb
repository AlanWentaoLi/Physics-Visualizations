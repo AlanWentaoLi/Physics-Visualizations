{
 "cells": [
  {
   "cell_type": "code",
   "execution_count": null,
   "metadata": {},
   "outputs": [],
   "source": [
    "import numpy as np\n",
    "from plotly.offline import download_plotlyjs, init_notebook_mode, plot, iplot\n",
    "import plotly.graph_objs as go\n",
    "init_notebook_mode(connected=True)"
   ]
  },
  {
   "cell_type": "code",
   "execution_count": null,
   "metadata": {
    "collapsed": true
   },
   "outputs": [],
   "source": [
    "c = 3e8 # Speed of light"
   ]
  },
  {
   "cell_type": "markdown",
   "metadata": {},
   "source": [
    "## Simple boundary example\n",
    "\n",
    "First, let's just have normal incidence, with lines to show the propagation direction.\n",
    "\n",
    "<img title=\"Nomally incident EM wave\" src=\"normal-incidence.png\" width=\"602px\">\n",
    "\n",
    "The equations governing this interaction are\n",
    "\n",
    "$$\\mathbf{E_i} = E_{i,0} e^{i (\\mathbf{k}_i \\cdot \\mathbf{r} - \\omega_i t)}, \\qquad \\mathbf{E_t} = E_{t,0} e^{i (\\mathbf{k}_t \\cdot \\mathbf{r} - \\omega_t t)}, \\qquad \\mathbf{E_r} = E_{r,0} e^{i (\\mathbf{k}_i \\cdot \\mathbf{r} - \\omega_r t)}$$\n",
    "\n",
    "N.B. the reflected wave propagates in the $-z$ direction\n",
    "\n",
    "Taking the dielectric boundary to be at $z=0$, and applying continuity of $E_\\parallel$ across the boundary,\n",
    "\n",
    "$$E_i + E_r = E_t$$\n",
    "$$\\Rightarrow E_{i,0} e^{-i \\omega_i t} + E_{r,0} e^{-i \\omega_r t} + E_{t,0} e^{-i \\omega_i t}$$\n",
    "\n",
    "For the waves to be phase-matched at all times, the time-varying parts must always be equal, which can only happen if\n",
    "\n",
    "$$E_{i,0} + E_{r,0} = E_{t,0}$$\n",
    "\n",
    "Note that the wavenumber $k$ is not generally the same across the boundary.\n",
    "\n",
    "As $B = \\frac{k}{\\omega} E$, the B field continuity is\n",
    "\n",
    "$$B_{i,0} - B_{r,0} = B_{t,0}$$\n",
    "\n",
    "But, $B = \\frac{\\eta}{c}E$\n",
    "\n",
    "$$\\Rightarrow \\eta_1 E_{i,0} - \\eta_1 E_{r,0} = \\eta_2 E_{t,0}$$\n",
    "\n",
    "So the ratio of transmitted to incident field is\n",
    "\n",
    "$$t = \\frac{E_{t,0}}{E_{i,0}} = \\frac{\\eta_1}{\\eta_1 + \\eta_2}$$\n",
    "\n",
    "And the ratio of reflected to incident field is\n",
    "\n",
    "$$r = \\frac{E_{r,0}}{E_{i,0}} = \\frac{\\eta_1 - \\eta_2}{\\eta_1 + \\eta_2}$$"
   ]
  },
  {
   "cell_type": "code",
   "execution_count": null,
   "metadata": {},
   "outputs": [],
   "source": [
    "class Wave:\n",
    "    def __init__(self, angle, E_0, w, polarisation, n1):\n",
    "        \"\"\"\n",
    "        Args:\n",
    "            E (float) - Magnitude of the E field\n",
    "            w (float) - Angular frequency\n",
    "            polarisation - TODO\n",
    "            n1 (float) - The incident material's refractive index\n",
    "        \"\"\"\n",
    "        self.angle = angle\n",
    "        self.E_0 = E_0\n",
    "        self.w = w\n",
    "        self.k = (n1 * w) / c\n",
    "        self.B_0 = (self.k / self.w) * E_0\n",
    "        self.polarisation = polarisation\n",
    "        self.n1 = n1\n",
    "    \n",
    "    def transmit(self, n2):\n",
    "        \"\"\"\n",
    "        Args:\n",
    "            n2 (float) - The dielectric material's refactive index\n",
    "        \"\"\"\n",
    "        self.n2 = n2\n",
    "        \n",
    "        E_t0 = self.E_0 * (self.n1 / (self.n1 + self.n2))\n",
    "        w = self.w\n",
    "        \n",
    "        return Wave(angle=0, E_0=E_t0, w=w, polarisation=None, n1=self.n2)\n",
    "        \n",
    "    def reflect(self, n2):\n",
    "        \n",
    "        E_r0 = self.E_0 * ((self.n1 - self.n2) / (self.n1 + self.n2))\n",
    "        w = - self.w # Bit of a fudge\n",
    "        \n",
    "        return Wave(angle=0, E_0=E_r0, w=w, polarisation=None, n1=self.n1)\n"
   ]
  },
  {
   "cell_type": "code",
   "execution_count": null,
   "metadata": {},
   "outputs": [],
   "source": [
    "Incident = Wave(angle=0, E_0=2., w=(2*np.pi*550e12), polarisation=None, n1=1.)\n",
    "print(\"Incident:\", Incident.E_0, Incident.k, Incident.w, Incident.B_0, Incident.n1)\n",
    "Transmitted = Incident.transmit(n2=1.4)\n",
    "print(\"Transmitted:\", Transmitted.E_0, Transmitted.k, Transmitted.w, Transmitted.B_0, Transmitted.n1)\n",
    "Reflected = Incident.reflect(n2=1.4)\n",
    "print(\"Reflected:\", Reflected.E_0, Reflected.k, Reflected.w, Reflected.B_0, Reflected.n1)"
   ]
  },
  {
   "cell_type": "code",
   "execution_count": null,
   "metadata": {
    "collapsed": true
   },
   "outputs": [],
   "source": []
  }
 ],
 "metadata": {
  "kernelspec": {
   "display_name": "Python 3",
   "language": "python",
   "name": "python3"
  },
  "language_info": {
   "codemirror_mode": {
    "name": "ipython",
    "version": 3
   },
   "file_extension": ".py",
   "mimetype": "text/x-python",
   "name": "python",
   "nbconvert_exporter": "python",
   "pygments_lexer": "ipython3",
   "version": "3.6.1"
  }
 },
 "nbformat": 4,
 "nbformat_minor": 2
}
