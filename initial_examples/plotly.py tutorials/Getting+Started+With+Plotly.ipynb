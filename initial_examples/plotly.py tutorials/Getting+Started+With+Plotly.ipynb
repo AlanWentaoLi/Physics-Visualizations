{
 "cells": [
  {
   "cell_type": "markdown",
   "metadata": {
    "extensions": {
     "jupyter_dashboards": {
      "version": 1.0,
      "views": {
       "grid_default": {},
       "report_default": {
        "hidden": false
       }
      }
     }
    }
   },
   "source": [
    "# Getting Started with Plotly\n",
    "\n",
    "<img src=\"https://s3-us-west-1.amazonaws.com/plotly-tutorials/background-images/home-img.jpg\" alt=\"Drawing\" style=\"width: 800px;\"/>"
   ]
  },
  {
   "cell_type": "markdown",
   "metadata": {
    "extensions": {
     "jupyter_dashboards": {
      "version": 1.0,
      "views": {
       "grid_default": {},
       "report_default": {
        "hidden": false
       }
      }
     }
    }
   },
   "source": [
    "## Installation"
   ]
  },
  {
   "cell_type": "markdown",
   "metadata": {
    "extensions": {
     "jupyter_dashboards": {
      "version": 1.0,
      "views": {
       "grid_default": {},
       "report_default": {
        "hidden": false
       }
      }
     }
    }
   },
   "source": [
    "<br>\n",
    "First install plotly using 'pip install plotly' on your conda command prompt. <br><br>\n",
    "Whenever you start a new notebook import the following:\n"
   ]
  },
  {
   "cell_type": "code",
   "execution_count": 86,
   "metadata": {
    "extensions": {
     "jupyter_dashboards": {
      "version": 1.0,
      "views": {
       "grid_default": {},
       "report_default": {
        "hidden": false
       }
      }
     }
    }
   },
   "outputs": [
    {
     "data": {
      "text/html": [
       "<script>requirejs.config({paths: { 'plotly': ['https://cdn.plot.ly/plotly-latest.min']},});if(!window.Plotly) {{require(['plotly'],function(plotly) {window.Plotly=plotly;});}}</script>"
      ]
     },
     "metadata": {},
     "output_type": "execute_result"
    }
   ],
   "source": [
    "from plotly.offline import download_plotlyjs,init_notebook_mode,plot,iplot\n",
    "import plotly.graph_objs as go\n",
    "init_notebook_mode(connected=True)"
   ]
  },
  {
   "cell_type": "markdown",
   "metadata": {
    "extensions": {
     "jupyter_dashboards": {
      "version": 1.0,
      "views": {
       "grid_default": {},
       "report_default": {
        "hidden": false
       }
      }
     }
    }
   },
   "source": [
    "\n",
    "Now you can get started with creating a plot! To do so, simply call iplot(figure) where your figure input is given by:\n",
    "\n",
    "figure = go.Figure(data,layout)\n",
    "\n",
    "In the next few sections we will go through the format, parameters, and useful tips for these **data** and **layout** inputs."
   ]
  },
  {
   "cell_type": "markdown",
   "metadata": {
    "extensions": {
     "jupyter_dashboards": {
      "version": 1.0,
      "views": {
       "grid_default": {},
       "report_default": {
        "hidden": false
       }
      }
     }
    }
   },
   "source": [
    "## Data"
   ]
  },
  {
   "cell_type": "markdown",
   "metadata": {
    "extensions": {
     "jupyter_dashboards": {
      "version": 1.0,
      "views": {
       "grid_default": {},
       "report_default": {
        "hidden": false
       }
      }
     }
    }
   },
   "source": [
    "Data is the most important input for our figure. In fact, you can create a figure without any layout input, but not without data! \n",
    "<br><br>\n",
    "On the Plotly website there are many ways of defining a dataset. For continuity, you should always use the 'trace' method. This method involves defining a series of traces such as those shown below, then letting our data equal a list of these traces, shown below. This is our preferred documentation for data because if you want to plot, say, both a line and a plane, you can have different traces for the line and plane. This makes it easier to manipulate one without changing the other.\n",
    "\n"
   ]
  },
  {
   "cell_type": "code",
   "execution_count": 87,
   "metadata": {
    "collapsed": true,
    "extensions": {
     "jupyter_dashboards": {
      "version": 1.0,
      "views": {
       "grid_default": {},
       "report_default": {
        "hidden": false
       }
      }
     }
    }
   },
   "outputs": [],
   "source": [
    "trace1 = dict(\n",
    "    go.Scatter(\n",
    "        x=[1,2,5,9],\n",
    "        y=[5,0,8,2],\n",
    "        mode='markers',\n",
    "        name='bubbles!',\n",
    "        marker=dict(\n",
    "            size=15\n",
    "        )\n",
    "        \n",
    "    )\n",
    ")\n",
    "\n",
    "trace2 = dict(\n",
    "    go.Scatter(\n",
    "        x=[1,3,5,7],\n",
    "        y=[1,3,5,7],\n",
    "        name='lines',\n",
    "        line = dict(\n",
    "            width=2,\n",
    "            color='rgb(21,117,22)'\n",
    "        )\n",
    "        \n",
    "    )\n",
    ")\n",
    "data = [trace1,trace2]"
   ]
  },
  {
   "cell_type": "markdown",
   "metadata": {
    "extensions": {
     "jupyter_dashboards": {
      "version": 1.0,
      "views": {
       "grid_default": {},
       "report_default": {
        "hidden": false
       }
      }
     }
    }
   },
   "source": [
    "As you can see traces are dictionaries that contain the datasets that we want to plot. Note that these traces also have \n",
    "layout parameters, such as marker colour. However, the only **required** inputs are the data points for x y and z - all other parameters have default values."
   ]
  },
  {
   "cell_type": "markdown",
   "metadata": {
    "extensions": {
     "jupyter_dashboards": {
      "version": 1.0,
      "views": {
       "grid_default": {},
       "report_default": {
        "hidden": false
       }
      }
     }
    }
   },
   "source": [
    "## Layout"
   ]
  },
  {
   "cell_type": "markdown",
   "metadata": {
    "extensions": {
     "jupyter_dashboards": {
      "version": 1.0,
      "views": {
       "grid_default": {},
       "report_default": {
        "hidden": true
       }
      }
     }
    }
   },
   "source": [
    "while our data and traces describe the layout of indevidual datasets, our 'layout' parameter describes the plot as a whole. Define your layout as a dictionary of multiple layout parameters:"
   ]
  },
  {
   "cell_type": "code",
   "execution_count": 88,
   "metadata": {
    "collapsed": true,
    "extensions": {
     "jupyter_dashboards": {
      "version": 1.0,
      "views": {
       "grid_default": {},
       "report_default": {
        "hidden": true
       }
      }
     }
    }
   },
   "outputs": [],
   "source": [
    "layout = dict(\n",
    "    width=600,height=600,\n",
    "    showlegend=True,\n",
    "    title='2D Example',\n",
    "    font = dict(family=\"Verdana\"),\n",
    "    xaxis = dict(range=[-1, 10], autorange=False, zeroline=False),\n",
    "    yaxis = dict(range=[-1, 10], autorange=False, zeroline=False),\n",
    "    plot_bgcolor='rgb(255, 255, 255)'\n",
    ")"
   ]
  },
  {
   "cell_type": "code",
   "execution_count": 89,
   "metadata": {
    "extensions": {
     "jupyter_dashboards": {
      "version": 1.0,
      "views": {
       "grid_default": {},
       "report_default": {
        "hidden": false
       }
      }
     }
    }
   },
   "outputs": [
    {
     "data": {
      "text/html": [
       "<div id=\"eb04a47b-6a0c-4b38-b41c-7e710a3d8ff0\" style=\"height: 600px; width: 600px;\" class=\"plotly-graph-div\"></div><script type=\"text/javascript\">require([\"plotly\"], function(Plotly) { window.PLOTLYENV=window.PLOTLYENV || {};window.PLOTLYENV.BASE_URL=\"https://plot.ly\";Plotly.newPlot(\"eb04a47b-6a0c-4b38-b41c-7e710a3d8ff0\", [{\"type\": \"scatter\", \"x\": [1, 2, 5, 9], \"y\": [5, 0, 8, 2], \"mode\": \"markers\", \"name\": \"bubbles!\", \"marker\": {\"size\": 15}}, {\"type\": \"scatter\", \"x\": [1, 3, 5, 7], \"y\": [1, 3, 5, 7], \"name\": \"lines\", \"line\": {\"width\": 2, \"color\": \"rgb(21,117,22)\"}}], {\"width\": 600, \"height\": 600, \"showlegend\": true, \"title\": \"2D Example\", \"font\": {\"family\": \"Verdana\"}, \"xaxis\": {\"range\": [-1, 10], \"autorange\": false, \"zeroline\": false}, \"yaxis\": {\"range\": [-1, 10], \"autorange\": false, \"zeroline\": false}, \"plot_bgcolor\": \"rgb(255, 255, 255)\"}, {\"showLink\": true, \"linkText\": \"Export to plot.ly\"})});</script>"
      ]
     },
     "metadata": {},
     "output_type": "execute_result"
    }
   ],
   "source": [
    "fig=go.Figure(data=data,layout=layout)\n",
    "iplot(fig)"
   ]
  },
  {
   "cell_type": "markdown",
   "metadata": {
    "extensions": {
     "jupyter_dashboards": {
      "version": 1.0,
      "views": {
       "grid_default": {},
       "report_default": {
        "hidden": false
       }
      }
     }
    }
   },
   "source": [
    "### Try playing around with both the data and layout parameters and run the notebook again to see how the plot changes! \n",
    "### Remember: how a plot looks is important so get a feel of what makes an asthetic plot."
   ]
  },
  {
   "cell_type": "markdown",
   "metadata": {
    "extensions": {
     "jupyter_dashboards": {
      "version": 1.0,
      "views": {
       "grid_default": {},
       "report_default": {
        "hidden": false
       }
      }
     }
    }
   },
   "source": [
    "# Moving to 3D"
   ]
  },
  {
   "cell_type": "markdown",
   "metadata": {
    "extensions": {
     "jupyter_dashboards": {
      "version": 1.0,
      "views": {
       "grid_default": {},
       "report_default": {
        "hidden": false
       }
      }
     }
    }
   },
   "source": [
    "Unlike other plotting modules, it is incredibly easy to move from 2D to 3D in plotly. All you have to do is make sure your trace type (Scatter, Surface, etc) is a 3D compatible type, such as Scatter3d. Then all you have to do is specify z values in your trace. As an example, why don't we just add simple z values of 0 and 1 to the previous 3d plots:"
   ]
  },
  {
   "cell_type": "code",
   "execution_count": 90,
   "metadata": {
    "extensions": {
     "jupyter_dashboards": {
      "version": 1.0,
      "views": {
       "grid_default": {},
       "report_default": {
        "hidden": true
       }
      }
     }
    }
   },
   "outputs": [
    {
     "data": {
      "text/html": [
       "<div id=\"022d9f97-68d7-44d4-9f1b-58d579c06317\" style=\"height: 600px; width: 600px;\" class=\"plotly-graph-div\"></div><script type=\"text/javascript\">require([\"plotly\"], function(Plotly) { window.PLOTLYENV=window.PLOTLYENV || {};window.PLOTLYENV.BASE_URL=\"https://plot.ly\";Plotly.newPlot(\"022d9f97-68d7-44d4-9f1b-58d579c06317\", [{\"type\": \"scatter3d\", \"x\": [1, 2, 5, 9], \"y\": [5, 0, 8, 2], \"z\": [0, 0, 0, 0], \"mode\": \"markers\", \"name\": \"bubbles!\", \"marker\": {\"size\": 15}}, {\"type\": \"scatter3d\", \"x\": [1, 3, 5, 7], \"y\": [1, 3, 5, 7], \"z\": [1, 1, 1, 1], \"name\": \"lines\", \"line\": {\"width\": 2, \"color\": \"rgb(21,117,22)\"}}], {\"width\": 600, \"height\": 600, \"showlegend\": true, \"title\": \"2D Example\", \"font\": {\"family\": \"Verdana\"}, \"scene\": {\"xaxis\": {\"range\": [-1, 10], \"autorange\": false, \"zeroline\": false}, \"yaxis\": {\"range\": [-1, 10], \"autorange\": false, \"zeroline\": false}, \"aspectmode\": \"cube\", \"camera\": {\"center\": {\"x\": 0, \"y\": 0, \"z\": 0}, \"eye\": {\"x\": 1, \"y\": -1, \"z\": 1}}}, \"plot_bgcolor\": \"rgb(255, 255, 255)\"}, {\"showLink\": true, \"linkText\": \"Export to plot.ly\"})});</script>"
      ]
     },
     "metadata": {},
     "output_type": "execute_result"
    }
   ],
   "source": [
    "trace1 = dict(\n",
    "    go.Scatter3d(\n",
    "        x=[1,2,5,9],\n",
    "        y=[5,0,8,2],\n",
    "        z=[0,0,0,0],\n",
    "        mode='markers',\n",
    "        name='bubbles!',\n",
    "        marker=dict(\n",
    "            size=15\n",
    "        )\n",
    "        \n",
    "    )\n",
    ")\n",
    "\n",
    "trace2 = dict(\n",
    "    go.Scatter3d(\n",
    "        x=[1,3,5,7],\n",
    "        y=[1,3,5,7],\n",
    "        z=[1,1,1,1],\n",
    "        name='lines',\n",
    "        line = dict(\n",
    "            width=2,\n",
    "            color='rgb(21,117,22)'\n",
    "        )\n",
    "        \n",
    "    )\n",
    ")\n",
    "layout = dict(\n",
    "    width=600,height=600,\n",
    "    showlegend=True,\n",
    "    title='2D Example',\n",
    "    font = dict(family=\"Verdana\"),\n",
    "    scene = dict(\n",
    "        xaxis = dict(range=[-1, 10], autorange=False, zeroline=False),\n",
    "        yaxis = dict(range=[-1, 10], autorange=False, zeroline=False),\n",
    "        aspectmode = 'cube',\n",
    "        camera = dict(center=dict(x=0,y=0,z=0),eye=dict(x=1,y=-1,z=1))\n",
    "                ),\n",
    "    plot_bgcolor='rgb(255, 255, 255)'\n",
    ")\n",
    "data = [trace1,trace2]\n",
    "fig=go.Figure(data=data,layout=layout)\n",
    "iplot(fig)"
   ]
  },
  {
   "cell_type": "markdown",
   "metadata": {
    "extensions": {
     "jupyter_dashboards": {
      "version": 1.0,
      "views": {
       "grid_default": {},
       "report_default": {
        "hidden": true
       }
      }
     }
    }
   },
   "source": [
    "### See how easy that was!"
   ]
  },
  {
   "cell_type": "markdown",
   "metadata": {},
   "source": [
    "## Tips and Tricks"
   ]
  },
  {
   "cell_type": "markdown",
   "metadata": {},
   "source": [
    "Now the tougher parts of plotly are getting plots to animate, update, and change layout. These interactivities will be covered in the next notebook, but before that here are a few useful tips when plotting using plotly:"
   ]
  },
  {
   "cell_type": "markdown",
   "metadata": {},
   "source": [
    "* The 'scene' dictionary in layout is one of the most powerful tools for 3d plotting. Not only does it describe your axes, but it also describes the start properties of the camera. Of the camera's properties all you really need to worry about is eye, which sets the starting position of the camera.\n",
    "\n",
    "* Sometimes plotly will set default axis ratios that don't look good or don't suit your needs. 'Aspectmode' in layout is very useful for making sure you control the axis ratios.\n",
    "\n",
    "* If you plot a surface, you may find the default plotly colourscale looks quite bad. To set your own colour to the surface, add the property colorscale to your surface trace, with syntax: colorscale = [[0,'colour1'],[1,'colour2']],"
   ]
  },
  {
   "cell_type": "code",
   "execution_count": null,
   "metadata": {
    "collapsed": true
   },
   "outputs": [],
   "source": [
    ""
   ]
  }
 ],
 "metadata": {
  "anaconda-cloud": {},
  "extensions": {
   "jupyter_dashboards": {
    "activeView": "report_default",
    "version": 1.0,
    "views": {
     "grid_default": {
      "name": "grid",
      "type": "grid"
     },
     "report_default": {
      "name": "report",
      "type": "report"
     }
    }
   }
  },
  "kernelspec": {
   "display_name": "Python [default]",
   "language": "python",
   "name": "python3"
  },
  "language_info": {
   "codemirror_mode": {
    "name": "ipython",
    "version": 3.0
   },
   "file_extension": ".py",
   "mimetype": "text/x-python",
   "name": "python",
   "nbconvert_exporter": "python",
   "pygments_lexer": "ipython3",
   "version": "3.5.2"
  }
 },
 "nbformat": 4,
 "nbformat_minor": 0
}